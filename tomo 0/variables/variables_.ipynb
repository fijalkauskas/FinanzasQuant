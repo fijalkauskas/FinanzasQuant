{
 "cells": [
  {
   "cell_type": "markdown",
   "metadata": {},
   "source": [
    "son contenedores, cajas donde guardamos algo, ese algo puede ser un valor, una palabra, una oración, un conjunto de valores, una fecha o miles de cosas más que ya veremos."
   ]
  },
  {
   "cell_type": "markdown",
   "metadata": {},
   "source": [
    "es un contenedor de algo"
   ]
  },
  {
   "cell_type": "code",
   "execution_count": 1,
   "metadata": {},
   "outputs": [],
   "source": [
    "mensaje = 'hola bro'"
   ]
  },
  {
   "cell_type": "code",
   "execution_count": 2,
   "metadata": {},
   "outputs": [
    {
     "data": {
      "text/plain": [
       "'hola bro'"
      ]
     },
     "execution_count": 2,
     "metadata": {},
     "output_type": "execute_result"
    }
   ],
   "source": [
    "mensaje"
   ]
  },
  {
   "cell_type": "markdown",
   "metadata": {},
   "source": [
    "lo bueno y gracioso es que ese algo se puede usar después"
   ]
  },
  {
   "cell_type": "code",
   "execution_count": 3,
   "metadata": {},
   "outputs": [
    {
     "name": "stdout",
     "output_type": "stream",
     "text": [
      "el monto es 50\n"
     ]
    }
   ],
   "source": [
    "monto = 50\n",
    "print(f'el monto es {monto}')"
   ]
  },
  {
   "cell_type": "code",
   "execution_count": 4,
   "metadata": {},
   "outputs": [
    {
     "name": "stdout",
     "output_type": "stream",
     "text": [
      "el monto sigue siendo 50\n"
     ]
    }
   ],
   "source": [
    "print('el monto sigue siendo', monto)"
   ]
  },
  {
   "cell_type": "code",
   "execution_count": 5,
   "metadata": {},
   "outputs": [
    {
     "name": "stdout",
     "output_type": "stream",
     "text": [
      "ahora sumamos 20, ergo, el monto es: 70\n"
     ]
    }
   ],
   "source": [
    "monto = monto + 20\n",
    "print('ahora sumamos 20, ergo, el monto es:',monto)"
   ]
  },
  {
   "cell_type": "markdown",
   "metadata": {},
   "source": [
    "abreviación de sintaxis en variables"
   ]
  },
  {
   "cell_type": "code",
   "execution_count": 6,
   "metadata": {},
   "outputs": [
    {
     "data": {
      "text/plain": [
       "90"
      ]
     },
     "execution_count": 6,
     "metadata": {},
     "output_type": "execute_result"
    }
   ],
   "source": [
    "monto += 20\n",
    "monto"
   ]
  },
  {
   "cell_type": "code",
   "execution_count": 7,
   "metadata": {},
   "outputs": [
    {
     "data": {
      "text/plain": [
       "60"
      ]
     },
     "execution_count": 7,
     "metadata": {},
     "output_type": "execute_result"
    }
   ],
   "source": [
    "monto -= 30\n",
    "monto"
   ]
  },
  {
   "cell_type": "code",
   "execution_count": 8,
   "metadata": {},
   "outputs": [
    {
     "data": {
      "text/plain": [
       "1800"
      ]
     },
     "execution_count": 8,
     "metadata": {},
     "output_type": "execute_result"
    }
   ],
   "source": [
    "monto *= 30\n",
    "monto"
   ]
  },
  {
   "cell_type": "markdown",
   "metadata": {},
   "source": [
    "f'texto'"
   ]
  },
  {
   "cell_type": "code",
   "execution_count": 9,
   "metadata": {},
   "outputs": [
    {
     "name": "stdout",
     "output_type": "stream",
     "text": [
      "el monto es 1800\n"
     ]
    }
   ],
   "source": [
    "print(f'el monto es {monto}')"
   ]
  },
  {
   "cell_type": "markdown",
   "metadata": {},
   "source": [
    "### asignacion de valores a variables"
   ]
  },
  {
   "cell_type": "code",
   "execution_count": 10,
   "metadata": {},
   "outputs": [
    {
     "data": {
      "text/plain": [
       "3"
      ]
     },
     "execution_count": 10,
     "metadata": {},
     "output_type": "execute_result"
    }
   ],
   "source": [
    "come = 3\n",
    "come"
   ]
  },
  {
   "cell_type": "code",
   "execution_count": 11,
   "metadata": {},
   "outputs": [
    {
     "data": {
      "text/plain": [
       "101"
      ]
     },
     "execution_count": 11,
     "metadata": {},
     "output_type": "execute_result"
    }
   ],
   "source": [
    "ggal = 100\n",
    "ggal = 101\n",
    "ggal"
   ]
  },
  {
   "cell_type": "markdown",
   "metadata": {},
   "source": [
    "### asignacion de variables por consola o interfaz de usuario\n",
    "\n",
    "en algun momento, le vas a pedir los datos a un usuario para guardarlos en una variable, para eso hay muchos métodos. el más sencillo es input().\n",
    "\n",
    "stopLoss = input(\"Ingresar el stop loss: \")\n",
    "1. print(\"Tu stop loss quedó configurado en\", stopLoss)\n",
    "\n",
    "también se puede hacer así, concatenando:\n",
    "\n",
    "2. print(\"Tu stop loss quedó configurado en\" + stopLoss)\n",
    "\n",
    "o con f'':\n",
    "\n",
    "3. print(\"Tu stop loss quedó configurado en {stopLoss}\")"
   ]
  }
 ],
 "metadata": {
  "kernelspec": {
   "display_name": "Python 3",
   "language": "python",
   "name": "python3"
  },
  "language_info": {
   "codemirror_mode": {
    "name": "ipython",
    "version": 3
   },
   "file_extension": ".py",
   "mimetype": "text/x-python",
   "name": "python",
   "nbconvert_exporter": "python",
   "pygments_lexer": "ipython3",
   "version": "3.12.0"
  }
 },
 "nbformat": 4,
 "nbformat_minor": 2
}
