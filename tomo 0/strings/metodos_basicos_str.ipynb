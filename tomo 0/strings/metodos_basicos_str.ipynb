{
 "cells": [
  {
   "cell_type": "markdown",
   "metadata": {},
   "source": [
    "metodos mas usuales:\n",
    "\n",
    "- .capitalize() pasa a mayus la primera letra de la variable\n",
    "- .upper() pasa a mayus todas las letras\n",
    "- .lower() pasa a minus todas las letras\n",
    "- .title() pasa las primeras letras de cada palabra a mayus\n",
    "- .rfind(\"string_buscado\") devuelve la ultima posicion donde aparece por primera vez \"string_buscado\" en el string dado\n",
    "- .find(\"string_buscado\") devuelve la primera posicion donde aparece por primera vez \"string_buscado\" en el string dado\n",
    "- .replace(\"buscado\",\"nuevo\") reemplaza \"buscado\" por \"nuevo\" en el string dado\n",
    "- .zfill(largo) rellena con ceros a la izquierda hasta completar el largo pasado como argumento\n",
    "- .count(\"string_buscado\") cuenta la cantidad de veces que aparece \"string_buscado\" en el string dado\n",
    "- len(string) la cantidad de caracteres del string\n",
    "- .isalnum() True si todos los caracteres son alfanúmericos\n",
    "- .isalpha() True si todos los caracteres son letras\n",
    "- .isdigit() True si todos los caracteres son numeros"
   ]
  },
  {
   "cell_type": "code",
   "execution_count": 2,
   "metadata": {},
   "outputs": [
    {
     "data": {
      "text/plain": [
       "'AAPL'"
      ]
     },
     "execution_count": 2,
     "metadata": {},
     "output_type": "execute_result"
    }
   ],
   "source": [
    "string = 'aapl'\n",
    "string.upper()"
   ]
  },
  {
   "cell_type": "code",
   "execution_count": 3,
   "metadata": {},
   "outputs": [
    {
     "data": {
      "text/plain": [
       "'El dolar va a valer $2000'"
      ]
     },
     "execution_count": 3,
     "metadata": {},
     "output_type": "execute_result"
    }
   ],
   "source": [
    "string = 'el dolar va a valer $2000'\n",
    "string.capitalize()"
   ]
  },
  {
   "cell_type": "code",
   "execution_count": 4,
   "metadata": {},
   "outputs": [
    {
     "data": {
      "text/plain": [
       "'gfgc100.ab'"
      ]
     },
     "execution_count": 4,
     "metadata": {},
     "output_type": "execute_result"
    }
   ],
   "source": [
    "string = 'GFGC100.AB'\n",
    "string.lower()"
   ]
  },
  {
   "cell_type": "code",
   "execution_count": 5,
   "metadata": {},
   "outputs": [
    {
     "data": {
      "text/plain": [
       "False"
      ]
     },
     "execution_count": 5,
     "metadata": {},
     "output_type": "execute_result"
    }
   ],
   "source": [
    "string='BTC'\n",
    "string.isdigit()"
   ]
  },
  {
   "cell_type": "code",
   "execution_count": 6,
   "metadata": {},
   "outputs": [
    {
     "data": {
      "text/plain": [
       "5"
      ]
     },
     "execution_count": 6,
     "metadata": {},
     "output_type": "execute_result"
    }
   ],
   "source": [
    "string='AAPL,META,AMZN,TSLA'\n",
    "string.count('A')"
   ]
  },
  {
   "cell_type": "code",
   "execution_count": 7,
   "metadata": {},
   "outputs": [
    {
     "data": {
      "text/plain": [
       "'0001'"
      ]
     },
     "execution_count": 7,
     "metadata": {},
     "output_type": "execute_result"
    }
   ],
   "source": [
    "string=\"1\"\n",
    "string.zfill(4)"
   ]
  },
  {
   "cell_type": "code",
   "execution_count": 8,
   "metadata": {},
   "outputs": [
    {
     "data": {
      "text/plain": [
       "'08.30 sale a bolsa x'"
      ]
     },
     "execution_count": 8,
     "metadata": {},
     "output_type": "execute_result"
    }
   ],
   "source": [
    "string='08.30 sale a bolsa AIRBNB'\n",
    "string.replace('AIRBNB','x')"
   ]
  }
 ],
 "metadata": {
  "kernelspec": {
   "display_name": "Python 3",
   "language": "python",
   "name": "python3"
  },
  "language_info": {
   "codemirror_mode": {
    "name": "ipython",
    "version": 3
   },
   "file_extension": ".py",
   "mimetype": "text/x-python",
   "name": "python",
   "nbconvert_exporter": "python",
   "pygments_lexer": "ipython3",
   "version": "3.12.0"
  }
 },
 "nbformat": 4,
 "nbformat_minor": 2
}
