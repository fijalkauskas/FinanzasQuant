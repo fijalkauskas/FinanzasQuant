{
 "cells": [
  {
   "cell_type": "markdown",
   "metadata": {},
   "source": [
    "## **Ejercicios colecciones de datos I**"
   ]
  },
  {
   "cell_type": "markdown",
   "metadata": {},
   "source": [
    "Dada la siguiente lista: listado = [1,2,3,4,5,6,7,8,9,10,11,12]"
   ]
  },
  {
   "cell_type": "code",
   "execution_count": 113,
   "metadata": {},
   "outputs": [],
   "source": [
    "listado = [1,2,3,4,5,6,7,8,9,10,11,12]"
   ]
  },
  {
   "cell_type": "markdown",
   "metadata": {},
   "source": [
    "1. Filtrar solo los números pares"
   ]
  },
  {
   "cell_type": "code",
   "execution_count": 114,
   "metadata": {},
   "outputs": [
    {
     "data": {
      "text/plain": [
       "[2, 4, 6, 8, 10, 12]"
      ]
     },
     "execution_count": 114,
     "metadata": {},
     "output_type": "execute_result"
    }
   ],
   "source": [
    "pares = [num for num in listado[1::2]]\n",
    "pares"
   ]
  },
  {
   "cell_type": "markdown",
   "metadata": {},
   "source": [
    "2. Filtrar solo los valores del 4 hasta el final de la lista."
   ]
  },
  {
   "cell_type": "code",
   "execution_count": 115,
   "metadata": {},
   "outputs": [
    {
     "data": {
      "text/plain": [
       "[4, 5, 6, 7, 8, 9, 10, 11, 12]"
      ]
     },
     "execution_count": 115,
     "metadata": {},
     "output_type": "execute_result"
    }
   ],
   "source": [
    "listado[listado.index(4):]"
   ]
  },
  {
   "cell_type": "markdown",
   "metadata": {},
   "source": [
    "3. Filtrar solo los valores del 5 hasta el 10"
   ]
  },
  {
   "cell_type": "code",
   "execution_count": 116,
   "metadata": {},
   "outputs": [
    {
     "data": {
      "text/plain": [
       "[5, 6, 7, 8, 9, 10]"
      ]
     },
     "execution_count": 116,
     "metadata": {},
     "output_type": "execute_result"
    }
   ],
   "source": [
    "listado[listado.index(5):listado.index(10)+1]"
   ]
  },
  {
   "cell_type": "markdown",
   "metadata": {},
   "source": [
    "4. Filtrar solo los valores menores a 10 que no sean pares"
   ]
  },
  {
   "cell_type": "code",
   "execution_count": 117,
   "metadata": {},
   "outputs": [
    {
     "data": {
      "text/plain": [
       "[9, 7, 5, 3, 1]"
      ]
     },
     "execution_count": 117,
     "metadata": {},
     "output_type": "execute_result"
    }
   ],
   "source": [
    "listado[listado.index(10)::-1][1::2]"
   ]
  },
  {
   "cell_type": "code",
   "execution_count": 118,
   "metadata": {},
   "outputs": [
    {
     "data": {
      "text/plain": [
       "[2, 4, 6, 8]"
      ]
     },
     "execution_count": 118,
     "metadata": {},
     "output_type": "execute_result"
    }
   ],
   "source": [
    "listado[1:-3:2]"
   ]
  },
  {
   "cell_type": "markdown",
   "metadata": {},
   "source": [
    "5. Filtrar solo los multiplos de 3 ordenados al revés"
   ]
  },
  {
   "cell_type": "code",
   "execution_count": 119,
   "metadata": {},
   "outputs": [
    {
     "data": {
      "text/plain": [
       "[1, 2, 3, 4, 5, 6, 7, 8, 9, 10, 11, 12]"
      ]
     },
     "execution_count": 119,
     "metadata": {},
     "output_type": "execute_result"
    }
   ],
   "source": [
    "listado"
   ]
  },
  {
   "cell_type": "code",
   "execution_count": 120,
   "metadata": {},
   "outputs": [
    {
     "data": {
      "text/plain": [
       "[12, 9, 6, 3]"
      ]
     },
     "execution_count": 120,
     "metadata": {},
     "output_type": "execute_result"
    }
   ],
   "source": [
    "mult_3 = listado[listado.index(3)::3]\n",
    "mult_3[::-1]"
   ]
  },
  {
   "cell_type": "code",
   "execution_count": 121,
   "metadata": {},
   "outputs": [
    {
     "data": {
      "text/plain": [
       "[12, 9, 6, 3]"
      ]
     },
     "execution_count": 121,
     "metadata": {},
     "output_type": "execute_result"
    }
   ],
   "source": [
    "listado[-1::-3]"
   ]
  },
  {
   "cell_type": "code",
   "execution_count": 144,
   "metadata": {},
   "outputs": [
    {
     "data": {
      "text/plain": [
       "6.5"
      ]
     },
     "execution_count": 144,
     "metadata": {},
     "output_type": "execute_result"
    }
   ],
   "source": [
    "promedio = sum(listado) / len(listado)\n",
    "promedio"
   ]
  },
  {
   "cell_type": "markdown",
   "metadata": {},
   "source": [
    "Dadas las siguientes listas:"
   ]
  },
  {
   "cell_type": "code",
   "execution_count": 122,
   "metadata": {},
   "outputs": [],
   "source": [
    "lideres = [\"GGAL\",\"PAMP\",\"YPFD\",\"TECO2\",\"EDN\",\"LOMA\",\"BBAR\"]\n",
    "galpones = [\"AGRO\",\"FIPL\",\"MIRG\",\"GARO\",\"LONG\"]"
   ]
  },
  {
   "cell_type": "markdown",
   "metadata": {},
   "source": [
    "7. Elegir un galpon al azar y agregarlo a la lista lideres al final"
   ]
  },
  {
   "cell_type": "code",
   "execution_count": 123,
   "metadata": {},
   "outputs": [
    {
     "name": "stdout",
     "output_type": "stream",
     "text": [
      "['GGAL', 'PAMP', 'YPFD', 'TECO2', 'EDN', 'LOMA', 'BBAR', 'GARO']\n"
     ]
    }
   ],
   "source": [
    "import random\n",
    "galpon_al_azar = random.choice(galpones)\n",
    "lideres.append(galpon_al_azar)\n",
    "print(lideres)"
   ]
  },
  {
   "cell_type": "markdown",
   "metadata": {},
   "source": [
    "8. Elegir un galpón al azar y reemplazar a EDN por ese galpón."
   ]
  },
  {
   "cell_type": "code",
   "execution_count": 124,
   "metadata": {},
   "outputs": [
    {
     "name": "stdout",
     "output_type": "stream",
     "text": [
      "['GGAL', 'PAMP', 'YPFD', 'TECO2', 'MIRG', 'LOMA', 'BBAR', 'GARO']\n"
     ]
    }
   ],
   "source": [
    "galpon_al_azar2 = random.choice(galpones)\n",
    "lideres[lideres.index(\"EDN\")] = galpon_al_azar2\n",
    "print(lideres)"
   ]
  },
  {
   "cell_type": "markdown",
   "metadata": {},
   "source": [
    "9. Elegir 3 galpones al azar y reemplazar una lider cualquiera por esos 3 galpones"
   ]
  },
  {
   "cell_type": "code",
   "execution_count": 125,
   "metadata": {},
   "outputs": [
    {
     "name": "stdout",
     "output_type": "stream",
     "text": [
      "['GGAL', 'PAMP', 'YPFD', 'TECO2', 'MIRG', 'LOMA', 'BBAR', 'GARO']\n",
      "['FIPL', 'LONG', 'GARO']\n"
     ]
    }
   ],
   "source": [
    "tres_galpones_random = random.sample(galpones,3)\n",
    "print(lideres)\n",
    "print(tres_galpones_random)"
   ]
  },
  {
   "cell_type": "code",
   "execution_count": 126,
   "metadata": {},
   "outputs": [
    {
     "data": {
      "text/plain": [
       "['GGAL', 'LONG', 'YPFD', 'TECO2', 'MIRG', 'LOMA', 'BBAR', 'GARO']"
      ]
     },
     "execution_count": 126,
     "metadata": {},
     "output_type": "execute_result"
    }
   ],
   "source": [
    "lideres[lideres.index(random.choice(lideres))] = random.choice(tres_galpones_random)\n",
    "lideres"
   ]
  },
  {
   "cell_type": "markdown",
   "metadata": {},
   "source": [
    "Dado el siguiente diccionario:"
   ]
  },
  {
   "cell_type": "code",
   "execution_count": 127,
   "metadata": {},
   "outputs": [],
   "source": [
    "panel = {'ALUA': 29.35, 'BBAR': 120.85, 'BMA': 265.2, 'BYMA':290, 'CEPU': 29, 'COME': 3, 'CRES': 40.7}"
   ]
  },
  {
   "cell_type": "markdown",
   "metadata": {},
   "source": [
    "10. Reemplazar el precio de BBAR por un precio al azar que elija python que varíe +/- $1 del precio que tiene con precisión del 0.01."
   ]
  },
  {
   "cell_type": "code",
   "execution_count": 128,
   "metadata": {},
   "outputs": [],
   "source": [
    "panel['BBAR'] = panel['BBAR'] +  random.choice([-1,1]) *  random.normalvariate(120.85,1) / 100"
   ]
  },
  {
   "cell_type": "code",
   "execution_count": 129,
   "metadata": {},
   "outputs": [
    {
     "data": {
      "text/plain": [
       "{'ALUA': 29.35,\n",
       " 'BBAR': 122.06426354035749,\n",
       " 'BMA': 265.2,\n",
       " 'BYMA': 290,\n",
       " 'CEPU': 29,\n",
       " 'COME': 3,\n",
       " 'CRES': 40.7}"
      ]
     },
     "execution_count": 129,
     "metadata": {},
     "output_type": "execute_result"
    }
   ],
   "source": [
    "panel"
   ]
  },
  {
   "cell_type": "code",
   "execution_count": 145,
   "metadata": {},
   "outputs": [
    {
     "data": {
      "text/plain": [
       "\"\\ncorrección.\\nvalor_azar = random.uniform(1,-1)\\npanel['BBAR'] = round(panel['BBAR']+valor_azar,2)\\npanel\\n\""
      ]
     },
     "execution_count": 145,
     "metadata": {},
     "output_type": "execute_result"
    }
   ],
   "source": [
    "\"\"\"\n",
    "corrección.\n",
    "valor_azar = random.uniform(1,-1)\n",
    "panel['BBAR'] = round(panel['BBAR']+valor_azar,2)\n",
    "panel\n",
    "\"\"\""
   ]
  },
  {
   "cell_type": "markdown",
   "metadata": {},
   "source": [
    "11. Reemplazar el precio de BBAR por un precio al azar que elija python que varie +/- 3% del precio que tiene con precision del 0.01"
   ]
  },
  {
   "cell_type": "code",
   "execution_count": 130,
   "metadata": {},
   "outputs": [],
   "source": [
    "panel['BBAR'] += random.choice([panel['BBAR']*0.03,panel['BBAR']*-0.03]) * random.normalvariate(panel['BBAR'],1) / 100"
   ]
  },
  {
   "cell_type": "code",
   "execution_count": 131,
   "metadata": {},
   "outputs": [
    {
     "data": {
      "text/plain": [
       "{'ALUA': 29.35,\n",
       " 'BBAR': 117.57056669669797,\n",
       " 'BMA': 265.2,\n",
       " 'BYMA': 290,\n",
       " 'CEPU': 29,\n",
       " 'COME': 3,\n",
       " 'CRES': 40.7}"
      ]
     },
     "execution_count": 131,
     "metadata": {},
     "output_type": "execute_result"
    }
   ],
   "source": [
    "panel"
   ]
  },
  {
   "cell_type": "code",
   "execution_count": 146,
   "metadata": {},
   "outputs": [
    {
     "data": {
      "text/plain": [
       "\"\\ncorrección.\\nbanda = 0.03 * panel['BBAR']\\nvalor_azar = random.uniform(-banda,banda)\\npanel['BBAR'] = round(panel['BBAR']+valor_azar,2)\\npanel\\n\""
      ]
     },
     "execution_count": 146,
     "metadata": {},
     "output_type": "execute_result"
    }
   ],
   "source": [
    "\"\"\"\n",
    "corrección.\n",
    "banda = 0.03 * panel['BBAR']\n",
    "valor_azar = random.uniform(-banda,banda)\n",
    "panel['BBAR'] = round(panel['BBAR']+valor_azar,2)\n",
    "panel\n",
    "\"\"\""
   ]
  },
  {
   "cell_type": "markdown",
   "metadata": {},
   "source": [
    "13. Elegir un ticker al azar y mostrarlo"
   ]
  },
  {
   "cell_type": "code",
   "execution_count": 136,
   "metadata": {},
   "outputs": [
    {
     "data": {
      "text/plain": [
       "'BYMA'"
      ]
     },
     "execution_count": 136,
     "metadata": {},
     "output_type": "execute_result"
    }
   ],
   "source": [
    "tickers = list(panel.keys())\n",
    "ticker_aleatorio = random.choice(tickers)\n",
    "ticker_aleatorio"
   ]
  },
  {
   "cell_type": "markdown",
   "metadata": {},
   "source": [
    "14. Re ordenar el diccionario al azar"
   ]
  },
  {
   "cell_type": "code",
   "execution_count": 147,
   "metadata": {},
   "outputs": [
    {
     "data": {
      "text/plain": [
       "{'BBAR': 117.57056669669797,\n",
       " 'COME': 3,\n",
       " 'BMA': 265.2,\n",
       " 'BYMA': 290,\n",
       " 'CRES': 40.7,\n",
       " 'ALUA': 29.35,\n",
       " 'CEPU': 29}"
      ]
     },
     "execution_count": 147,
     "metadata": {},
     "output_type": "execute_result"
    }
   ],
   "source": [
    "keys = list(panel.keys())\n",
    "random.shuffle(keys)\n",
    "listaReordenada = [(key, panel[key]) for key in keys]\n",
    "dict(listaReordenada)"
   ]
  },
  {
   "cell_type": "markdown",
   "metadata": {},
   "source": [
    "15. Reordenar el diccionario alfabéticamente en forma inversa (de la Z a la A)"
   ]
  },
  {
   "cell_type": "code",
   "execution_count": 148,
   "metadata": {},
   "outputs": [
    {
     "data": {
      "text/plain": [
       "{'ALUA': 29.35,\n",
       " 'BBAR': 117.57056669669797,\n",
       " 'BMA': 265.2,\n",
       " 'BYMA': 290,\n",
       " 'CEPU': 29,\n",
       " 'COME': 3,\n",
       " 'CRES': 40.7}"
      ]
     },
     "execution_count": 148,
     "metadata": {},
     "output_type": "execute_result"
    }
   ],
   "source": [
    "panel"
   ]
  },
  {
   "cell_type": "code",
   "execution_count": 149,
   "metadata": {},
   "outputs": [
    {
     "data": {
      "text/plain": [
       "{'CRES': 40.7,\n",
       " 'COME': 3,\n",
       " 'CEPU': 29,\n",
       " 'BYMA': 290,\n",
       " 'BMA': 265.2,\n",
       " 'BBAR': 117.57056669669797,\n",
       " 'ALUA': 29.35}"
      ]
     },
     "execution_count": 149,
     "metadata": {},
     "output_type": "execute_result"
    }
   ],
   "source": [
    "llaves = list(panel.keys())\n",
    "lista_reversed_llaves = [(llave, panel[llave]) for llave in reversed(llaves)]\n",
    "dict(lista_reversed_llaves)"
   ]
  }
 ],
 "metadata": {
  "kernelspec": {
   "display_name": "Python 3",
   "language": "python",
   "name": "python3"
  },
  "language_info": {
   "codemirror_mode": {
    "name": "ipython",
    "version": 3
   },
   "file_extension": ".py",
   "mimetype": "text/x-python",
   "name": "python",
   "nbconvert_exporter": "python",
   "pygments_lexer": "ipython3",
   "version": "3.12.0"
  }
 },
 "nbformat": 4,
 "nbformat_minor": 2
}
