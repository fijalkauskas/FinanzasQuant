{
 "cells": [
  {
   "cell_type": "markdown",
   "metadata": {},
   "source": [
    "## **Ejercicios con random**"
   ]
  },
  {
   "cell_type": "markdown",
   "metadata": {},
   "source": [
    "1. Obtener un precio aleatorio no importa la distribución, para la acción GGAL que oscila entre 100 y 110 y con precisión de 0.01, asignarlo a la variable ggal"
   ]
  },
  {
   "cell_type": "code",
   "execution_count": 25,
   "metadata": {},
   "outputs": [
    {
     "data": {
      "text/plain": [
       "106.11"
      ]
     },
     "execution_count": 25,
     "metadata": {},
     "output_type": "execute_result"
    }
   ],
   "source": [
    "import random\n",
    "ggal = random.randrange(10000,11000,1) / 100\n",
    "ggal"
   ]
  },
  {
   "cell_type": "markdown",
   "metadata": {},
   "source": [
    "2. Resolver el ejercicio 1 de nuevo pero de otra forma totalmente distinta"
   ]
  },
  {
   "cell_type": "code",
   "execution_count": 26,
   "metadata": {},
   "outputs": [
    {
     "data": {
      "text/plain": [
       "103.86"
      ]
     },
     "execution_count": 26,
     "metadata": {},
     "output_type": "execute_result"
    }
   ],
   "source": [
    "def ggal_price(min,max):\n",
    "    return random.randrange(min*100,max*100) / 100\n",
    "ggal_price(100,110)"
   ]
  },
  {
   "cell_type": "markdown",
   "metadata": {},
   "source": [
    "3. Asumiendo que un activo tiene una distribución de sus rendimientos diarios muy similar a la distribución normal, y que su media es 0.1% con volatilidad diaria del 2.5%. Escribir la instrucción que me devuelva valores aleatorios de su rendimiento diario."
   ]
  },
  {
   "cell_type": "code",
   "execution_count": 27,
   "metadata": {},
   "outputs": [
    {
     "data": {
      "text/plain": [
       "-0.35967055273314563"
      ]
     },
     "execution_count": 27,
     "metadata": {},
     "output_type": "execute_result"
    }
   ],
   "source": [
    "random.seed(0)\n",
    "random.normalvariate(0.1,2.5)"
   ]
  },
  {
   "cell_type": "markdown",
   "metadata": {},
   "source": [
    "4. Vamos a simular un recorrido de precios para GGAL durante toda una semana partiendo de que el último viernes cerró a $135.51 y que se mueve diariamente con una media del 0.012% y un desviío estándar del 3.5%. La idea es obtener una serie de precios para el fin del lunes, martes, miercoles, jueves y viernes. \n",
    " - a. obtener la serie fijando la semilla 123 ( a todos nos da lo mismo)\n",
    " - b. obtener una serie pseudoaleatoria sin especificar nada"
   ]
  },
  {
   "cell_type": "code",
   "execution_count": 28,
   "metadata": {},
   "outputs": [
    {
     "name": "stdout",
     "output_type": "stream",
     "text": [
      "lunes: 122.24702275090696, martes: 122.65960639481898, miércoles: 125.76009223246007, jueves: 123.93011862332561, viernes: 123.42527165134652.\n"
     ]
    }
   ],
   "source": [
    "#a\n",
    "random.seed(123)\n",
    "precio_inicial = 123\n",
    "mu, sigma = 0.00012,0.035\n",
    "\n",
    "variacion = random.normalvariate(mu, sigma)\n",
    "lunes = precio_inicial * (1+variacion)\n",
    "\n",
    "variacion = random.normalvariate(mu, sigma)\n",
    "martes = lunes * (1+variacion)\n",
    "\n",
    "variacion = random.normalvariate(mu, sigma)\n",
    "miercoles = martes * (1+variacion)\n",
    "\n",
    "variacion = random.normalvariate(mu, sigma)\n",
    "jueves = miercoles * (1+variacion)\n",
    "\n",
    "variacion = random.normalvariate(mu, sigma)\n",
    "viernes = jueves * (1+variacion)\n",
    "\n",
    "print(f'lunes: {lunes}, martes: {martes}, miércoles: {miercoles}, jueves: {jueves}, viernes: {viernes}.')"
   ]
  },
  {
   "cell_type": "code",
   "execution_count": 29,
   "metadata": {},
   "outputs": [
    {
     "name": "stdout",
     "output_type": "stream",
     "text": [
      "lunes: 123.78971759939579, martes: 121.31825017799439, miércoles: 122.06065290069701, jueves: 116.29576570381587, viernes: 111.07593338067214.\n"
     ]
    }
   ],
   "source": [
    "precio_inicial = 123\n",
    "mu, sigma = 0.00012,0.035\n",
    "\n",
    "variacion = random.normalvariate(mu, sigma)\n",
    "lunes = precio_inicial * (1+variacion)\n",
    "\n",
    "variacion = random.normalvariate(mu, sigma)\n",
    "martes = lunes * (1+variacion)\n",
    "\n",
    "variacion = random.normalvariate(mu, sigma)\n",
    "miercoles = martes * (1+variacion)\n",
    "\n",
    "variacion = random.normalvariate(mu, sigma)\n",
    "jueves = miercoles * (1+variacion)\n",
    "\n",
    "variacion = random.normalvariate(mu, sigma)\n",
    "viernes = jueves * (1+variacion)\n",
    "\n",
    "print(f'lunes: {lunes}, martes: {martes}, miércoles: {miercoles}, jueves: {jueves}, viernes: {viernes}.')"
   ]
  }
 ],
 "metadata": {
  "kernelspec": {
   "display_name": "Python 3",
   "language": "python",
   "name": "python3"
  },
  "language_info": {
   "codemirror_mode": {
    "name": "ipython",
    "version": 3
   },
   "file_extension": ".py",
   "mimetype": "text/x-python",
   "name": "python",
   "nbconvert_exporter": "python",
   "pygments_lexer": "ipython3",
   "version": "3.12.0"
  }
 },
 "nbformat": 4,
 "nbformat_minor": 2
}
