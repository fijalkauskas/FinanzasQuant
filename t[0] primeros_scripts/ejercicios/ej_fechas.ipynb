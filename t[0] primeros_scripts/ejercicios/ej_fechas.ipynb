{
 "cells": [
  {
   "cell_type": "markdown",
   "metadata": {},
   "source": [
    "## **Ejercicios con fechas**"
   ]
  },
  {
   "cell_type": "markdown",
   "metadata": {},
   "source": [
    "1. Hacer un script que devuelva en la variable año, el año actual."
   ]
  },
  {
   "cell_type": "code",
   "execution_count": 48,
   "metadata": {},
   "outputs": [
    {
     "name": "stdout",
     "output_type": "stream",
     "text": [
      "El año de la fecha de hoy es 2023\n"
     ]
    }
   ],
   "source": [
    "from datetime import datetime as dt_dt\n",
    "hoy = dt_dt.today()\n",
    "año = hoy.year\n",
    "print(f'El año de la fecha de hoy es {año}')"
   ]
  },
  {
   "cell_type": "markdown",
   "metadata": {},
   "source": [
    "2. Escribir el código al que el usuario le asigne: \n",
    " - día \n",
    " - mes\n",
    " - año\n",
    "\n",
    "Y devuelva el nombre en español del día de la semana que cae esa fecha.\n",
    "Usar para ello la librería calendar"
   ]
  },
  {
   "cell_type": "code",
   "execution_count": 49,
   "metadata": {},
   "outputs": [
    {
     "name": "stdout",
     "output_type": "stream",
     "text": [
      "Fecha: 25 / 4 / 2019\n",
      "El número de día de la semana fue 3\n",
      "El nombre de día de la semana fue JUEVES\n"
     ]
    }
   ],
   "source": [
    "import calendar\n",
    "import locale\n",
    "locale.setlocale(locale.LC_TIME,\"esp\")\n",
    "año = 2019\n",
    "mes = 4\n",
    "dia = 25\n",
    "fecha = calendar.weekday(año,mes,dia)\n",
    "num_de_dia_sem = fecha\n",
    "nombre_dia = calendar.day_name[num_de_dia_sem]\n",
    "print(f'Fecha: {dia} / {mes} / {año}')\n",
    "print(f'El número de día de la semana fue {num_de_dia_sem}')\n",
    "print(f'El nombre de día de la semana fue {nombre_dia.upper()}')"
   ]
  },
  {
   "cell_type": "markdown",
   "metadata": {},
   "source": [
    "2b. Hacer el mismo pero en lugar de usar calendar, usar datetime."
   ]
  },
  {
   "cell_type": "code",
   "execution_count": 50,
   "metadata": {},
   "outputs": [
    {
     "name": "stdout",
     "output_type": "stream",
     "text": [
      "Fecha: 2019-04-25 00:00:00\n",
      "El nombre de día de la semana fue JUEVES\n"
     ]
    }
   ],
   "source": [
    "from datetime import datetime\n",
    "locale.setlocale(locale.LC_TIME,\"es\")\n",
    "año, mes, dia = 2019, 4, 25\n",
    "dia = datetime(año,mes,dia)\n",
    "nombre = dia.strftime(format='%A')\n",
    "print(f'Fecha: {dia}')\n",
    "print(f'El nombre de día de la semana fue {nombre.upper()}')"
   ]
  },
  {
   "cell_type": "markdown",
   "metadata": {},
   "source": [
    "3. Hacer un script que le informe al usuario cuantos dias faltan para terminar el año."
   ]
  },
  {
   "cell_type": "code",
   "execution_count": 75,
   "metadata": {},
   "outputs": [
    {
     "data": {
      "text/plain": [
       "datetime.datetime(2023, 12, 17, 15, 7, 29, 139496)"
      ]
     },
     "execution_count": 75,
     "metadata": {},
     "output_type": "execute_result"
    }
   ],
   "source": [
    "from datetime import datetime as dt_dt\n",
    "hoy = dt_dt.now()\n",
    "hoy"
   ]
  },
  {
   "cell_type": "code",
   "execution_count": 70,
   "metadata": {},
   "outputs": [
    {
     "data": {
      "text/plain": [
       "2023"
      ]
     },
     "execution_count": 70,
     "metadata": {},
     "output_type": "execute_result"
    }
   ],
   "source": [
    "año = hoy.year\n",
    "año"
   ]
  },
  {
   "cell_type": "code",
   "execution_count": 72,
   "metadata": {},
   "outputs": [
    {
     "data": {
      "text/plain": [
       "datetime.datetime(2024, 1, 1, 0, 0)"
      ]
     },
     "execution_count": 72,
     "metadata": {},
     "output_type": "execute_result"
    }
   ],
   "source": [
    "año_nuevo = dt_dt(año + 1 , 1, 1) \n",
    "año_nuevo"
   ]
  },
  {
   "cell_type": "code",
   "execution_count": 78,
   "metadata": {},
   "outputs": [
    {
     "data": {
      "text/plain": [
       "14"
      ]
     },
     "execution_count": 78,
     "metadata": {},
     "output_type": "execute_result"
    }
   ],
   "source": [
    "dias_restantes = (año_nuevo - hoy).days\n",
    "dias_restantes"
   ]
  },
  {
   "cell_type": "markdown",
   "metadata": {},
   "source": [
    "4. Hacer un script que le informe al usuario que fraccion del año queda para la expiracion de una opcion que vence el 18 de diciembre del corriente año desde la fecha en que se ejecuta el script\n",
    " - que funcione sea cual sea el año que se runee el codigo\n",
    " - usar el sub paquete date de la libreria datetime\n"
   ]
  },
  {
   "cell_type": "code",
   "execution_count": 93,
   "metadata": {},
   "outputs": [
    {
     "name": "stdout",
     "output_type": "stream",
     "text": [
      "Para la expiración de la opción que vence el 18/12/2023, queda el 0.0027397260273972603% del año.\n"
     ]
    }
   ],
   "source": [
    "from datetime import datetime as dt_dt\n",
    "hoy = dt_dt.today()\n",
    "año=hoy.year\n",
    "mes_vto=12\n",
    "dia_vto=19\n",
    "vto_opcion = datetime(año,mes_vto,dia_vto)\n",
    "fraccion_año = (vto_opcion - hoy).days / 365\n",
    "print(f'Para la expiración de la opción que vence el 18/12/{año}, queda el {fraccion_año}% del año.')"
   ]
  },
  {
   "cell_type": "markdown",
   "metadata": {},
   "source": [
    "5. Hacer un script que el usuario ingrese en las variables mes y año los valores del mes y año para el cual se quiere saber el nombre del primer dia de ese mes."
   ]
  },
  {
   "cell_type": "code",
   "execution_count": 95,
   "metadata": {},
   "outputs": [
    {
     "name": "stdout",
     "output_type": "stream",
     "text": [
      "El primer dia del mes 5 del año 2003 es jueves\n"
     ]
    }
   ],
   "source": [
    "from datetime import date\n",
    "mes = 5\n",
    "año = 2003\n",
    "\n",
    "dia_ = datetime(año, mes, 1).strftime('%A')\n",
    "print(f'El primer dia del mes {mes} del año {año} es {dia_}')"
   ]
  }
 ],
 "metadata": {
  "kernelspec": {
   "display_name": "Python 3",
   "language": "python",
   "name": "python3"
  },
  "language_info": {
   "codemirror_mode": {
    "name": "ipython",
    "version": 3
   },
   "file_extension": ".py",
   "mimetype": "text/x-python",
   "name": "python",
   "nbconvert_exporter": "python",
   "pygments_lexer": "ipython3",
   "version": "3.12.0"
  }
 },
 "nbformat": 4,
 "nbformat_minor": 2
}
