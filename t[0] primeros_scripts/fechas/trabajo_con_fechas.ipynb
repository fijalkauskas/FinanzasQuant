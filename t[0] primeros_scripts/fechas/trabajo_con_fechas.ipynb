{
 "cells": [
  {
   "cell_type": "markdown",
   "metadata": {},
   "source": [
    "## **Trabajando con fechas**"
   ]
  },
  {
   "cell_type": "markdown",
   "metadata": {},
   "source": [
    "### La librería datetime"
   ]
  },
  {
   "cell_type": "code",
   "execution_count": 1,
   "metadata": {},
   "outputs": [],
   "source": [
    "import datetime as dt"
   ]
  },
  {
   "cell_type": "markdown",
   "metadata": {},
   "source": [
    "Dentro de la librería tenemos los siguientes paquetes: \n",
    "- date\n",
    "- time\n",
    "- datetime\n",
    "- timedelta\n",
    "- timezone\n",
    "- tzinfo"
   ]
  },
  {
   "cell_type": "code",
   "execution_count": 2,
   "metadata": {},
   "outputs": [],
   "source": [
    "from datetime import datetime as dt_dt\n",
    "from datetime import date as dt_date"
   ]
  },
  {
   "cell_type": "markdown",
   "metadata": {},
   "source": [
    "Veamos cual es la fecha actual con la hora actual"
   ]
  },
  {
   "cell_type": "code",
   "execution_count": 3,
   "metadata": {},
   "outputs": [
    {
     "name": "stdout",
     "output_type": "stream",
     "text": [
      "2023-12-17 14:05:49.472847 <class 'datetime.datetime'>\n"
     ]
    }
   ],
   "source": [
    "hoy = dt_dt.now()\n",
    "print(hoy, type(hoy))"
   ]
  },
  {
   "cell_type": "markdown",
   "metadata": {},
   "source": [
    "### Atributos del objeto datetime"
   ]
  },
  {
   "cell_type": "markdown",
   "metadata": {},
   "source": [
    "Van a ser: \n",
    "- año\n",
    "- mes\n",
    "- dia\n",
    "- hora\n",
    "- minutos\n",
    "- segundos\n",
    "- microsegundos\n",
    "\n",
    "¿Cómo accedemos?"
   ]
  },
  {
   "cell_type": "code",
   "execution_count": 4,
   "metadata": {},
   "outputs": [
    {
     "name": "stdout",
     "output_type": "stream",
     "text": [
      "El año es 2023\n",
      "El mes es 12\n",
      "El dia es 17\n",
      "La hora es 14\n",
      "El minuto es 5\n",
      "El segundo es 49\n",
      "El microsegundo es 485139\n"
     ]
    }
   ],
   "source": [
    "hoy = dt_dt.today()\n",
    "año = hoy.year\n",
    "mes = hoy.month\n",
    "dia = hoy.day\n",
    "hora = hoy.hour\n",
    "minuto = hoy.minute\n",
    "segundos = hoy.second\n",
    "microsegundos = hoy.microsecond\n",
    "\n",
    "print(f'El año es {año}')\n",
    "print(f'El mes es {mes}')\n",
    "print(f'El dia es {dia}')\n",
    "print(f'La hora es {hora}')\n",
    "print(f'El minuto es {minuto}')\n",
    "print(f'El segundo es {segundos}')\n",
    "print(f'El microsegundo es {microsegundos}')"
   ]
  },
  {
   "cell_type": "markdown",
   "metadata": {},
   "source": [
    "Si quiero solo la fecha sin la hora usamos date, no datetime"
   ]
  },
  {
   "cell_type": "code",
   "execution_count": 5,
   "metadata": {},
   "outputs": [
    {
     "name": "stdout",
     "output_type": "stream",
     "text": [
      "2023-12-17 <class 'datetime.date'>\n"
     ]
    }
   ],
   "source": [
    "hoy = dt_date.today()\n",
    "print(hoy, type(hoy))"
   ]
  },
  {
   "cell_type": "markdown",
   "metadata": {},
   "source": [
    "Fechas en formato string"
   ]
  },
  {
   "cell_type": "markdown",
   "metadata": {},
   "source": [
    "Con ctime() nos devuelve una fecha legible muy cómoda en formato str partiendo de un objeto fecha datetime"
   ]
  },
  {
   "cell_type": "code",
   "execution_count": 6,
   "metadata": {},
   "outputs": [
    {
     "name": "stdout",
     "output_type": "stream",
     "text": [
      "Sun Dec 17 14:05:49 2023 <class 'str'>\n"
     ]
    }
   ],
   "source": [
    "hoy = dt.datetime.today()\n",
    "hoy_str  = hoy.ctime()\n",
    "print(hoy_str,type(hoy_str))"
   ]
  },
  {
   "cell_type": "markdown",
   "metadata": {},
   "source": [
    "### Convertir un str en un DateTime"
   ]
  },
  {
   "cell_type": "markdown",
   "metadata": {},
   "source": [
    "Las fechas en formato string no sirven para mostrar en pantall, si quiero hacer la diferencia de dias, minutos, o lo que fuera entre dos fechas, las necesito en datetime."
   ]
  },
  {
   "cell_type": "code",
   "execution_count": 7,
   "metadata": {},
   "outputs": [
    {
     "data": {
      "text/plain": [
       "datetime.datetime(2025, 4, 17, 0, 0)"
      ]
     },
     "execution_count": 7,
     "metadata": {},
     "output_type": "execute_result"
    }
   ],
   "source": [
    "hoy = dt_dt.today()\n",
    "expiracion_str = \"2025-04-17\"\n",
    "expiracion = dt_dt.strptime(expiracion_str,\"%Y-%m-%d\")\n",
    "expiracion"
   ]
  },
  {
   "cell_type": "markdown",
   "metadata": {},
   "source": [
    "Podemos calcular ahora, están ambas en el mismo objeto."
   ]
  },
  {
   "cell_type": "code",
   "execution_count": 8,
   "metadata": {},
   "outputs": [
    {
     "data": {
      "text/plain": [
       "datetime.timedelta(days=486, seconds=35650, microseconds=492060)"
      ]
     },
     "execution_count": 8,
     "metadata": {},
     "output_type": "execute_result"
    }
   ],
   "source": [
    "expiracion - hoy"
   ]
  },
  {
   "cell_type": "code",
   "execution_count": 9,
   "metadata": {},
   "outputs": [
    {
     "name": "stdout",
     "output_type": "stream",
     "text": [
      "Días restantes: 486 \n",
      " Segundos restantes: 35650\n"
     ]
    }
   ],
   "source": [
    "dias = (expiracion - hoy).days\n",
    "segundos = (expiracion - hoy).seconds\n",
    "print(\"Días restantes:\",dias,\"\\n Segundos restantes:\",segundos)"
   ]
  },
  {
   "cell_type": "markdown",
   "metadata": {},
   "source": [
    "Para acceder al string de la expiración usamos el ctime()"
   ]
  },
  {
   "cell_type": "code",
   "execution_count": 10,
   "metadata": {},
   "outputs": [
    {
     "data": {
      "text/plain": [
       "'Thu Apr 17 00:00:00 2025'"
      ]
     },
     "execution_count": 10,
     "metadata": {},
     "output_type": "execute_result"
    }
   ],
   "source": [
    "expiracion.ctime()"
   ]
  },
  {
   "cell_type": "markdown",
   "metadata": {},
   "source": [
    "### Generar una fecha como objeto de datetime"
   ]
  },
  {
   "cell_type": "markdown",
   "metadata": {},
   "source": [
    "Podemos generar fecha como objeto de datetime en lugar de partir de un string puede ser partiendo de los valores año, mes, dia."
   ]
  },
  {
   "cell_type": "code",
   "execution_count": 14,
   "metadata": {},
   "outputs": [
    {
     "data": {
      "text/plain": [
       "(datetime.datetime(2023, 12, 24, 13, 12, 10), 'Sun Dec 24 13:12:10 2023')"
      ]
     },
     "execution_count": 14,
     "metadata": {},
     "output_type": "execute_result"
    }
   ],
   "source": [
    "año = 2023\n",
    "mes = 12\n",
    "dia = 24\n",
    "hora = 13\n",
    "minutos = 12\n",
    "segundos = 10\n",
    "fecha = dt_dt(año,mes,dia,hora,minutos,segundos)\n",
    "fecha, fecha.ctime()"
   ]
  },
  {
   "cell_type": "markdown",
   "metadata": {},
   "source": [
    "### Convertir un objeto Datetime a string"
   ]
  },
  {
   "cell_type": "markdown",
   "metadata": {},
   "source": [
    "Existen varias formas"
   ]
  },
  {
   "cell_type": "code",
   "execution_count": 15,
   "metadata": {},
   "outputs": [
    {
     "data": {
      "text/plain": [
       "'2020-03-10 00:00:00'"
      ]
     },
     "execution_count": 15,
     "metadata": {},
     "output_type": "execute_result"
    }
   ],
   "source": [
    "import datetime as dt\n",
    "fecha = dt.datetime(2020,3,10)\n",
    "str(fecha)"
   ]
  },
  {
   "cell_type": "code",
   "execution_count": 17,
   "metadata": {},
   "outputs": [
    {
     "data": {
      "text/plain": [
       "'2020-03-10T00:00:00'"
      ]
     },
     "execution_count": 17,
     "metadata": {},
     "output_type": "execute_result"
    }
   ],
   "source": [
    "fecha.isoformat()"
   ]
  },
  {
   "cell_type": "code",
   "execution_count": 18,
   "metadata": {},
   "outputs": [
    {
     "data": {
      "text/plain": [
       "'Tue Mar 10 00:00:00 2020'"
      ]
     },
     "execution_count": 18,
     "metadata": {},
     "output_type": "execute_result"
    }
   ],
   "source": [
    "fecha.ctime()"
   ]
  },
  {
   "cell_type": "code",
   "execution_count": 19,
   "metadata": {},
   "outputs": [
    {
     "data": {
      "text/plain": [
       "'2020-03-10'"
      ]
     },
     "execution_count": 19,
     "metadata": {},
     "output_type": "execute_result"
    }
   ],
   "source": [
    "fecha.strftime(format='%Y-%m-%d')"
   ]
  },
  {
   "cell_type": "markdown",
   "metadata": {},
   "source": [
    "#### Distintos formatos para mostrar fechas"
   ]
  },
  {
   "cell_type": "markdown",
   "metadata": {},
   "source": [
    "strftime para pasar el objeto fecha a un string comodo de leer"
   ]
  },
  {
   "cell_type": "code",
   "execution_count": 21,
   "metadata": {},
   "outputs": [
    {
     "data": {
      "text/plain": [
       "datetime.datetime(2023, 12, 17, 14, 9, 50, 301487)"
      ]
     },
     "execution_count": 21,
     "metadata": {},
     "output_type": "execute_result"
    }
   ],
   "source": [
    "from datetime import datetime as dt_dt\n",
    "hoy = dt_dt.today()\n",
    "hoy"
   ]
  },
  {
   "cell_type": "code",
   "execution_count": 23,
   "metadata": {},
   "outputs": [
    {
     "data": {
      "text/plain": [
       "'17 December, 2023'"
      ]
     },
     "execution_count": 23,
     "metadata": {},
     "output_type": "execute_result"
    }
   ],
   "source": [
    "hoy_txt = dt_dt.strftime(hoy, format='%d %B, %Y')\n",
    "hoy_txt"
   ]
  },
  {
   "cell_type": "markdown",
   "metadata": {},
   "source": [
    "### Seteo de parametrización local"
   ]
  },
  {
   "cell_type": "markdown",
   "metadata": {},
   "source": [
    "librería locale nos permite setear a los usos locales los atributos, entre otras de : \n",
    " - fechas y horas: locale.LC_TIME\n",
    " - signos y nomenclaturas monetarias: locale.LC_MONETARY\n",
    " - numeración y signos de puntuación: locale.LC_NUMERIC"
   ]
  },
  {
   "cell_type": "code",
   "execution_count": 27,
   "metadata": {},
   "outputs": [
    {
     "name": "stdout",
     "output_type": "stream",
     "text": [
      "La fecha en inglés queda así: Tuesday 10 March, 2020\n",
      "La fecha en francés queda así: mardi 10 mars, 2020\n",
      "La fecha en español queda así: martes 10 marzo, 2020\n"
     ]
    }
   ],
   "source": [
    "import locale\n",
    "from datetime import datetime as dt_dt\n",
    "\n",
    "# Configurado en inglés\n",
    "locale.setlocale(locale.LC_TIME , \"en\")\n",
    "hoy_en = dt_dt(2020,3,10)\n",
    "hoy_en = dt_dt.strftime(hoy_en, \"%A %d %B, %Y\")\n",
    "\n",
    "# Configurado en francés\n",
    "locale.setlocale(locale.LC_TIME , \"fr\")\n",
    "hoy_fr = dt_dt(2020,3,10)\n",
    "hoy_fr = dt_dt.strftime(hoy_fr, \"%A %d %B, %Y\")\n",
    "\n",
    "# Configurado en español\n",
    "locale.setlocale(locale.LC_TIME , \"esp\")\n",
    "hoy_esp = dt_dt(2020,3,10)\n",
    "hoy_esp = dt_dt.strftime(hoy_esp, \"%A %d %B, %Y\")\n",
    "\n",
    "print(f'La fecha en inglés queda así: {hoy_en}')\n",
    "print(f'La fecha en francés queda así: {hoy_fr}')\n",
    "print(f'La fecha en español queda así: {hoy_esp}')"
   ]
  },
  {
   "cell_type": "markdown",
   "metadata": {},
   "source": [
    "### Qué es un timestamp?"
   ]
  },
  {
   "cell_type": "markdown",
   "metadata": {},
   "source": [
    "Cantidad de segundos que nos sirve para identificar una fecha y hora exactas con un simple numero entero y su uso es muy comun en informatica ya que ocupa poco espacio en una database y es universalmente conocido."
   ]
  },
  {
   "cell_type": "code",
   "execution_count": 28,
   "metadata": {},
   "outputs": [
    {
     "name": "stdout",
     "output_type": "stream",
     "text": [
      "1702833648.5986\n"
     ]
    }
   ],
   "source": [
    "from datetime import datetime as dt_dt\n",
    "hoy = dt_dt.today()\n",
    "timestamp = hoy.timestamp()\n",
    "print(timestamp)"
   ]
  },
  {
   "cell_type": "code",
   "execution_count": 32,
   "metadata": {},
   "outputs": [
    {
     "data": {
      "text/plain": [
       "datetime.datetime(2009, 2, 13, 18, 59, 16, 512400)"
      ]
     },
     "execution_count": 32,
     "metadata": {},
     "output_type": "execute_result"
    }
   ],
   "source": [
    "timestamp = 1234562356.5124\n",
    "fecha = dt_dt.fromtimestamp(timestamp)\n",
    "fecha"
   ]
  },
  {
   "cell_type": "markdown",
   "metadata": {},
   "source": [
    "### Pasando a otro huso horario"
   ]
  },
  {
   "cell_type": "code",
   "execution_count": 34,
   "metadata": {},
   "outputs": [
    {
     "name": "stdout",
     "output_type": "stream",
     "text": [
      "Sun Dec 17 18:24:15 2023 es la hora local de Berlín.\n",
      "Sun Dec 17 14:24:15 2023 es la hora local de Argentina.\n"
     ]
    }
   ],
   "source": [
    "import pytz\n",
    "from datetime import datetime as dt_dt\n",
    "hoy = dt_dt.now()\n",
    "hoy_berlin = hoy.astimezone(pytz.timezone('Europe/Berlin'))\n",
    "print(hoy_berlin.ctime(), \"es la hora local de Berlín.\")\n",
    "print(hoy.ctime(), \"es la hora local de Argentina.\")"
   ]
  },
  {
   "cell_type": "markdown",
   "metadata": {},
   "source": [
    "Para ver las mas usuales: pytz.common_timezones"
   ]
  },
  {
   "cell_type": "code",
   "execution_count": 35,
   "metadata": {},
   "outputs": [
    {
     "name": "stdout",
     "output_type": "stream",
     "text": [
      "['Africa/Abidjan', 'Africa/Accra', 'Africa/Addis_Ababa', 'Africa/Algiers', 'Africa/Asmara', 'Africa/Bamako', 'Africa/Bangui', 'Africa/Banjul', 'Africa/Bissau', 'Africa/Blantyre']\n"
     ]
    }
   ],
   "source": [
    "print(pytz.common_timezones[0:10])"
   ]
  },
  {
   "cell_type": "markdown",
   "metadata": {},
   "source": [
    "### _Librería Calendar_"
   ]
  },
  {
   "cell_type": "markdown",
   "metadata": {},
   "source": [
    "Impresion de pantalla de un calendario"
   ]
  },
  {
   "cell_type": "markdown",
   "metadata": {},
   "source": [
    "prcal() nos permite printear un calendar para poder visualizarlo de modo amigable para un humano la distribucion de las fechas en cada mes"
   ]
  },
  {
   "cell_type": "code",
   "execution_count": 45,
   "metadata": {},
   "outputs": [
    {
     "name": "stdout",
     "output_type": "stream",
     "text": [
      "                                                 2020\n",
      "\n",
      "           enero                               febrero                               marzo\n",
      "lu. ma. mi. ju. vi. sá. do.          lu. ma. mi. ju. vi. sá. do.          lu. ma. mi. ju. vi. sá. do.\n",
      "          1   2   3   4   5                                1   2                                    1\n",
      "  6   7   8   9  10  11  12            3   4   5   6   7   8   9            2   3   4   5   6   7   8\n",
      " 13  14  15  16  17  18  19           10  11  12  13  14  15  16            9  10  11  12  13  14  15\n",
      " 20  21  22  23  24  25  26           17  18  19  20  21  22  23           16  17  18  19  20  21  22\n",
      " 27  28  29  30  31                   24  25  26  27  28  29               23  24  25  26  27  28  29\n",
      "                                                                           30  31\n",
      "\n",
      "           abril                                 mayo                                junio\n",
      "lu. ma. mi. ju. vi. sá. do.          lu. ma. mi. ju. vi. sá. do.          lu. ma. mi. ju. vi. sá. do.\n",
      "          1   2   3   4   5                            1   2   3            1   2   3   4   5   6   7\n",
      "  6   7   8   9  10  11  12            4   5   6   7   8   9  10            8   9  10  11  12  13  14\n",
      " 13  14  15  16  17  18  19           11  12  13  14  15  16  17           15  16  17  18  19  20  21\n",
      " 20  21  22  23  24  25  26           18  19  20  21  22  23  24           22  23  24  25  26  27  28\n",
      " 27  28  29  30                       25  26  27  28  29  30  31           29  30\n",
      "\n",
      "           julio                                agosto                             septiembre\n",
      "lu. ma. mi. ju. vi. sá. do.          lu. ma. mi. ju. vi. sá. do.          lu. ma. mi. ju. vi. sá. do.\n",
      "          1   2   3   4   5                                1   2                1   2   3   4   5   6\n",
      "  6   7   8   9  10  11  12            3   4   5   6   7   8   9            7   8   9  10  11  12  13\n",
      " 13  14  15  16  17  18  19           10  11  12  13  14  15  16           14  15  16  17  18  19  20\n",
      " 20  21  22  23  24  25  26           17  18  19  20  21  22  23           21  22  23  24  25  26  27\n",
      " 27  28  29  30  31                   24  25  26  27  28  29  30           28  29  30\n",
      "                                      31\n",
      "\n",
      "          octubre                             noviembre                            diciembre\n",
      "lu. ma. mi. ju. vi. sá. do.          lu. ma. mi. ju. vi. sá. do.          lu. ma. mi. ju. vi. sá. do.\n",
      "              1   2   3   4                                    1                1   2   3   4   5   6\n",
      "  5   6   7   8   9  10  11            2   3   4   5   6   7   8            7   8   9  10  11  12  13\n",
      " 12  13  14  15  16  17  18            9  10  11  12  13  14  15           14  15  16  17  18  19  20\n",
      " 19  20  21  22  23  24  25           16  17  18  19  20  21  22           21  22  23  24  25  26  27\n",
      " 26  27  28  29  30  31               23  24  25  26  27  28  29           28  29  30  31\n",
      "                                      30\n"
     ]
    }
   ],
   "source": [
    "import calendar \n",
    "\n",
    "# parametros\n",
    "año = 2020\n",
    "separacion_horiz = 3\n",
    "separacion_ver = 1\n",
    "calle = 10\n",
    "meses_por_fila = 3\n",
    "calendar.prcal(año,separacion_horiz,separacion_ver,calle, meses_por_fila)"
   ]
  },
  {
   "cell_type": "markdown",
   "metadata": {},
   "source": [
    "O se puede printear un mes cualquiera"
   ]
  },
  {
   "cell_type": "code",
   "execution_count": 46,
   "metadata": {},
   "outputs": [
    {
     "name": "stdout",
     "output_type": "stream",
     "text": [
      "   diciembre 2020\n",
      "lu ma mi ju vi sá do\n",
      "    1  2  3  4  5  6\n",
      " 7  8  9 10 11 12 13\n",
      "14 15 16 17 18 19 20\n",
      "21 22 23 24 25 26 27\n",
      "28 29 30 31\n"
     ]
    }
   ],
   "source": [
    "calendar.prmonth(año,mes)"
   ]
  },
  {
   "cell_type": "markdown",
   "metadata": {},
   "source": [
    "Años bisiestos"
   ]
  },
  {
   "cell_type": "code",
   "execution_count": 47,
   "metadata": {},
   "outputs": [
    {
     "data": {
      "text/plain": [
       "True"
      ]
     },
     "execution_count": 47,
     "metadata": {},
     "output_type": "execute_result"
    }
   ],
   "source": [
    "calendar.isleap(2020)"
   ]
  },
  {
   "cell_type": "markdown",
   "metadata": {},
   "source": [
    "Cantidad de dias / años bisiestos entre 2 años"
   ]
  },
  {
   "cell_type": "code",
   "execution_count": 48,
   "metadata": {},
   "outputs": [
    {
     "data": {
      "text/plain": [
       "2"
      ]
     },
     "execution_count": 48,
     "metadata": {},
     "output_type": "execute_result"
    }
   ],
   "source": [
    "calendar.leapdays(2023,2030)"
   ]
  },
  {
   "cell_type": "markdown",
   "metadata": {},
   "source": [
    "Funciones basicas de calendar"
   ]
  },
  {
   "cell_type": "markdown",
   "metadata": {},
   "source": [
    "saber que dia de la semana cae una fecha (por default, lunes = 0, martes = 1 ..., domingo = 6)"
   ]
  },
  {
   "cell_type": "code",
   "execution_count": 49,
   "metadata": {},
   "outputs": [
    {
     "data": {
      "text/plain": [
       "calendar.SUNDAY"
      ]
     },
     "execution_count": 49,
     "metadata": {},
     "output_type": "execute_result"
    }
   ],
   "source": [
    "calendar.weekday(2023,12,17)"
   ]
  },
  {
   "cell_type": "code",
   "execution_count": 50,
   "metadata": {},
   "outputs": [
    {
     "name": "stdout",
     "output_type": "stream",
     "text": [
      "6\n"
     ]
    }
   ],
   "source": [
    "print(calendar.weekday(2023,12,17))"
   ]
  },
  {
   "cell_type": "code",
   "execution_count": 51,
   "metadata": {},
   "outputs": [
    {
     "data": {
      "text/plain": [
       "'Friday'"
      ]
     },
     "execution_count": 51,
     "metadata": {},
     "output_type": "execute_result"
    }
   ],
   "source": [
    "import locale\n",
    "dia = calendar.weekday(2020,3,27)\n",
    "locale.setlocale(locale.LC_TIME,\"en\")\n",
    "calendar.day_name[dia]"
   ]
  },
  {
   "cell_type": "code",
   "execution_count": 52,
   "metadata": {},
   "outputs": [
    {
     "data": {
      "text/plain": [
       "'viernes'"
      ]
     },
     "execution_count": 52,
     "metadata": {},
     "output_type": "execute_result"
    }
   ],
   "source": [
    "dia = calendar.weekday(2020,3,27)\n",
    "locale.setlocale(locale.LC_TIME,\"esp\")\n",
    "calendar.day_name[dia]"
   ]
  },
  {
   "cell_type": "markdown",
   "metadata": {},
   "source": [
    "monthrange me devuelve el numero de dia del primer dia del mes, y la cantidad de dias del mes"
   ]
  },
  {
   "cell_type": "code",
   "execution_count": 54,
   "metadata": {},
   "outputs": [
    {
     "data": {
      "text/plain": [
       "(calendar.FRIDAY, 31)"
      ]
     },
     "execution_count": 54,
     "metadata": {},
     "output_type": "execute_result"
    }
   ],
   "source": [
    "locale.setlocale(locale.LC_TIME,\"esp\")\n",
    "calendar.monthrange(2023,12)"
   ]
  }
 ],
 "metadata": {
  "kernelspec": {
   "display_name": "Python 3",
   "language": "python",
   "name": "python3"
  },
  "language_info": {
   "codemirror_mode": {
    "name": "ipython",
    "version": 3
   },
   "file_extension": ".py",
   "mimetype": "text/x-python",
   "name": "python",
   "nbconvert_exporter": "python",
   "pygments_lexer": "ipython3",
   "version": "3.12.0"
  }
 },
 "nbformat": 4,
 "nbformat_minor": 2
}
