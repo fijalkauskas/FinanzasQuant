{
 "cells": [
  {
   "cell_type": "markdown",
   "metadata": {},
   "source": [
    "## **Tratamiento de los elementos del DataFrame**"
   ]
  },
  {
   "cell_type": "code",
   "execution_count": 1,
   "metadata": {},
   "outputs": [],
   "source": [
    "import pandas as pd\n",
    "aapl = pd.read_excel(\"C:/Users/juanf/Escritorio/python_finanzas_quant/archivos_data/UCEMA/AAPL.xlsx\", sheet_name='Hoja1')"
   ]
  },
  {
   "cell_type": "code",
   "execution_count": 2,
   "metadata": {},
   "outputs": [
    {
     "data": {
      "text/plain": [
       "0       56544246\n",
       "1       46893219\n",
       "2       54794568\n",
       "3       79868852\n",
       "4       85349339\n",
       "          ...   \n",
       "5028     2219700\n",
       "5029     2470700\n",
       "5030     2421700\n",
       "5031     2437600\n",
       "5032     1880000\n",
       "Name: volume, Length: 5033, dtype: int64"
      ]
     },
     "execution_count": 2,
     "metadata": {},
     "output_type": "execute_result"
    }
   ],
   "source": [
    "vol = aapl.volume\n",
    "vol"
   ]
  },
  {
   "cell_type": "code",
   "execution_count": 3,
   "metadata": {},
   "outputs": [
    {
     "data": {
      "text/plain": [
       "pandas.core.series.Series"
      ]
     },
     "execution_count": 3,
     "metadata": {},
     "output_type": "execute_result"
    }
   ],
   "source": [
    "type(vol)"
   ]
  },
  {
   "cell_type": "code",
   "execution_count": 5,
   "metadata": {},
   "outputs": [
    {
     "data": {
      "text/plain": [
       "list"
      ]
     },
     "execution_count": 5,
     "metadata": {},
     "output_type": "execute_result"
    }
   ],
   "source": [
    "vol = list(vol)\n",
    "type(vol)"
   ]
  },
  {
   "cell_type": "code",
   "execution_count": 6,
   "metadata": {},
   "outputs": [
    {
     "data": {
      "text/plain": [
       "23694203.887343533"
      ]
     },
     "execution_count": 6,
     "metadata": {},
     "output_type": "execute_result"
    }
   ],
   "source": [
    "vol_medio = sum(vol) / len(vol)\n",
    "vol_medio"
   ]
  },
  {
   "cell_type": "code",
   "execution_count": 8,
   "metadata": {},
   "outputs": [
    {
     "data": {
      "text/plain": [
       "['timestamp', 'open', 'high', 'low', 'close', 'adjusted_close', 'volume']"
      ]
     },
     "execution_count": 8,
     "metadata": {},
     "output_type": "execute_result"
    }
   ],
   "source": [
    "columnas  = list(aapl.columns)\n",
    "columnas"
   ]
  },
  {
   "cell_type": "code",
   "execution_count": 9,
   "metadata": {},
   "outputs": [
    {
     "data": {
      "text/plain": [
       "timestamp         2020-03-06 00:00:00\n",
       "open                            282.0\n",
       "high                           290.82\n",
       "low                            281.23\n",
       "close                          289.03\n",
       "adjusted_close                 289.03\n",
       "volume                       56544246\n",
       "Name: 0, dtype: object"
      ]
     },
     "execution_count": 9,
     "metadata": {},
     "output_type": "execute_result"
    }
   ],
   "source": [
    "aapl.loc[0]"
   ]
  },
  {
   "cell_type": "code",
   "execution_count": 10,
   "metadata": {},
   "outputs": [
    {
     "data": {
      "text/plain": [
       "[Timestamp('2020-03-06 00:00:00'),\n",
       " 282.0,\n",
       " 290.82,\n",
       " 281.23,\n",
       " 289.03,\n",
       " 289.03,\n",
       " 56544246]"
      ]
     },
     "execution_count": 10,
     "metadata": {},
     "output_type": "execute_result"
    }
   ],
   "source": [
    "primera_fila = list(aapl.loc[0])\n",
    "primera_fila"
   ]
  },
  {
   "cell_type": "markdown",
   "metadata": {},
   "source": [
    "armado de un diccionario partiendo de una fila de un DataFrame"
   ]
  },
  {
   "cell_type": "code",
   "execution_count": 11,
   "metadata": {},
   "outputs": [
    {
     "data": {
      "text/html": [
       "<div>\n",
       "<style scoped>\n",
       "    .dataframe tbody tr th:only-of-type {\n",
       "        vertical-align: middle;\n",
       "    }\n",
       "\n",
       "    .dataframe tbody tr th {\n",
       "        vertical-align: top;\n",
       "    }\n",
       "\n",
       "    .dataframe thead th {\n",
       "        text-align: right;\n",
       "    }\n",
       "</style>\n",
       "<table border=\"1\" class=\"dataframe\">\n",
       "  <thead>\n",
       "    <tr style=\"text-align: right;\">\n",
       "      <th></th>\n",
       "      <th>timestamp</th>\n",
       "      <th>open</th>\n",
       "      <th>high</th>\n",
       "      <th>low</th>\n",
       "      <th>close</th>\n",
       "      <th>adjusted_close</th>\n",
       "      <th>volume</th>\n",
       "    </tr>\n",
       "  </thead>\n",
       "  <tbody>\n",
       "    <tr>\n",
       "      <th>1382</th>\n",
       "      <td>2014-09-09</td>\n",
       "      <td>99.080</td>\n",
       "      <td>103.08</td>\n",
       "      <td>96.14</td>\n",
       "      <td>97.99</td>\n",
       "      <td>89.4259</td>\n",
       "      <td>189560600</td>\n",
       "    </tr>\n",
       "    <tr>\n",
       "      <th>1141</th>\n",
       "      <td>2015-08-24</td>\n",
       "      <td>94.870</td>\n",
       "      <td>108.80</td>\n",
       "      <td>92.00</td>\n",
       "      <td>103.12</td>\n",
       "      <td>95.7091</td>\n",
       "      <td>162206292</td>\n",
       "    </tr>\n",
       "    <tr>\n",
       "      <th>1285</th>\n",
       "      <td>2015-01-28</td>\n",
       "      <td>117.625</td>\n",
       "      <td>118.12</td>\n",
       "      <td>115.31</td>\n",
       "      <td>115.31</td>\n",
       "      <td>105.6872</td>\n",
       "      <td>146477063</td>\n",
       "    </tr>\n",
       "  </tbody>\n",
       "</table>\n",
       "</div>"
      ],
      "text/plain": [
       "      timestamp     open    high     low   close  adjusted_close     volume\n",
       "1382 2014-09-09   99.080  103.08   96.14   97.99         89.4259  189560600\n",
       "1141 2015-08-24   94.870  108.80   92.00  103.12         95.7091  162206292\n",
       "1285 2015-01-28  117.625  118.12  115.31  115.31        105.6872  146477063"
      ]
     },
     "execution_count": 11,
     "metadata": {},
     "output_type": "execute_result"
    }
   ],
   "source": [
    "ordenado_por_vol = aapl.sort_values(by='volume', ascending=False)\n",
    "mayor_volumen = ordenado_por_vol.head(3)\n",
    "mayor_volumen"
   ]
  },
  {
   "cell_type": "code",
   "execution_count": 12,
   "metadata": {},
   "outputs": [
    {
     "data": {
      "text/plain": [
       "{'timestamp': [Timestamp('2014-09-09 00:00:00'),\n",
       "  Timestamp('2015-08-24 00:00:00'),\n",
       "  Timestamp('2015-01-28 00:00:00')],\n",
       " 'open': [99.08, 94.87, 117.625],\n",
       " 'high': [103.08, 108.8, 118.12],\n",
       " 'low': [96.14, 92.0, 115.31],\n",
       " 'close': [97.99, 103.12, 115.31],\n",
       " 'adjusted_close': [89.4259, 95.7091, 105.6872],\n",
       " 'volume': [189560600, 162206292, 146477063]}"
      ]
     },
     "execution_count": 12,
     "metadata": {},
     "output_type": "execute_result"
    }
   ],
   "source": [
    "vol_dict = mayor_volumen.to_dict(orient='list')\n",
    "vol_dict"
   ]
  },
  {
   "cell_type": "code",
   "execution_count": 13,
   "metadata": {},
   "outputs": [
    {
     "data": {
      "text/plain": [
       "{'timestamp': {1382: Timestamp('2014-09-09 00:00:00'),\n",
       "  1141: Timestamp('2015-08-24 00:00:00'),\n",
       "  1285: Timestamp('2015-01-28 00:00:00')},\n",
       " 'open': {1382: 99.08, 1141: 94.87, 1285: 117.625},\n",
       " 'high': {1382: 103.08, 1141: 108.8, 1285: 118.12},\n",
       " 'low': {1382: 96.14, 1141: 92.0, 1285: 115.31},\n",
       " 'close': {1382: 97.99, 1141: 103.12, 1285: 115.31},\n",
       " 'adjusted_close': {1382: 89.4259, 1141: 95.7091, 1285: 105.6872},\n",
       " 'volume': {1382: 189560600, 1141: 162206292, 1285: 146477063}}"
      ]
     },
     "execution_count": 13,
     "metadata": {},
     "output_type": "execute_result"
    }
   ],
   "source": [
    "vol_Dict = mayor_volumen.to_dict(orient='dict')\n",
    "vol_Dict"
   ]
  },
  {
   "cell_type": "code",
   "execution_count": 14,
   "metadata": {},
   "outputs": [
    {
     "data": {
      "text/plain": [
       "{1382: 97.99, 1141: 103.12, 1285: 115.31}"
      ]
     },
     "execution_count": 14,
     "metadata": {},
     "output_type": "execute_result"
    }
   ],
   "source": [
    "vol_Dict['close']"
   ]
  },
  {
   "cell_type": "code",
   "execution_count": 15,
   "metadata": {},
   "outputs": [
    {
     "data": {
      "text/plain": [
       "{1382: Timestamp('2014-09-09 00:00:00'),\n",
       " 1141: Timestamp('2015-08-24 00:00:00'),\n",
       " 1285: Timestamp('2015-01-28 00:00:00')}"
      ]
     },
     "execution_count": 15,
     "metadata": {},
     "output_type": "execute_result"
    }
   ],
   "source": [
    "vol_Dict['timestamp']"
   ]
  }
 ],
 "metadata": {
  "kernelspec": {
   "display_name": "Python 3",
   "language": "python",
   "name": "python3"
  },
  "language_info": {
   "codemirror_mode": {
    "name": "ipython",
    "version": 3
   },
   "file_extension": ".py",
   "mimetype": "text/x-python",
   "name": "python",
   "nbconvert_exporter": "python",
   "pygments_lexer": "ipython3",
   "version": "3.12.0"
  }
 },
 "nbformat": 4,
 "nbformat_minor": 2
}
