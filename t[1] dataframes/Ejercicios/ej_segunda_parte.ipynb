{
 "cells": [
  {
   "cell_type": "markdown",
   "metadata": {},
   "source": [
    "## **Ejercicios segunda parte: lectura_de_df, filtrados, tratamientos de elementos y ordenamiento de tablas.**"
   ]
  },
  {
   "cell_type": "markdown",
   "metadata": {},
   "source": [
    "1. mostrar los datos correspondientes al 15 de mayo del 2008"
   ]
  },
  {
   "cell_type": "code",
   "execution_count": 43,
   "metadata": {},
   "outputs": [],
   "source": [
    "import pandas as pd\n",
    "aapl = pd.read_excel(\"C:/Users/juanf/Escritorio/python_finanzas_quant/archivos_data/UCEMA/AAPL.xlsx\", sheet_name='Hoja1')\n",
    "aapl.set_index('timestamp',inplace=True)"
   ]
  },
  {
   "cell_type": "code",
   "execution_count": 44,
   "metadata": {},
   "outputs": [
    {
     "data": {
      "text/plain": [
       "open              1.867800e+02\n",
       "high              1.899000e+02\n",
       "low               1.842000e+02\n",
       "close             1.897300e+02\n",
       "adjusted_close    2.352420e+01\n",
       "volume            3.118600e+07\n",
       "Name: 2008-05-15 00:00:00, dtype: float64"
      ]
     },
     "execution_count": 44,
     "metadata": {},
     "output_type": "execute_result"
    }
   ],
   "source": [
    "aapl.loc[\"2008-05-15\"]"
   ]
  },
  {
   "cell_type": "markdown",
   "metadata": {},
   "source": [
    "2. mostrar los tres datos posteriores al 15 de mayo del 2008"
   ]
  },
  {
   "cell_type": "code",
   "execution_count": 45,
   "metadata": {},
   "outputs": [
    {
     "data": {
      "text/html": [
       "<div>\n",
       "<style scoped>\n",
       "    .dataframe tbody tr th:only-of-type {\n",
       "        vertical-align: middle;\n",
       "    }\n",
       "\n",
       "    .dataframe tbody tr th {\n",
       "        vertical-align: top;\n",
       "    }\n",
       "\n",
       "    .dataframe thead th {\n",
       "        text-align: right;\n",
       "    }\n",
       "</style>\n",
       "<table border=\"1\" class=\"dataframe\">\n",
       "  <thead>\n",
       "    <tr style=\"text-align: right;\">\n",
       "      <th></th>\n",
       "      <th>open</th>\n",
       "      <th>high</th>\n",
       "      <th>low</th>\n",
       "      <th>close</th>\n",
       "      <th>adjusted_close</th>\n",
       "      <th>volume</th>\n",
       "    </tr>\n",
       "    <tr>\n",
       "      <th>timestamp</th>\n",
       "      <th></th>\n",
       "      <th></th>\n",
       "      <th></th>\n",
       "      <th></th>\n",
       "      <th></th>\n",
       "      <th></th>\n",
       "    </tr>\n",
       "  </thead>\n",
       "  <tbody>\n",
       "    <tr>\n",
       "      <th>2020-03-06</th>\n",
       "      <td>282.00</td>\n",
       "      <td>290.82</td>\n",
       "      <td>281.23</td>\n",
       "      <td>289.03</td>\n",
       "      <td>289.03</td>\n",
       "      <td>56544246</td>\n",
       "    </tr>\n",
       "    <tr>\n",
       "      <th>2020-03-05</th>\n",
       "      <td>295.52</td>\n",
       "      <td>299.55</td>\n",
       "      <td>291.41</td>\n",
       "      <td>292.92</td>\n",
       "      <td>292.92</td>\n",
       "      <td>46893219</td>\n",
       "    </tr>\n",
       "    <tr>\n",
       "      <th>2020-03-04</th>\n",
       "      <td>296.44</td>\n",
       "      <td>303.40</td>\n",
       "      <td>293.13</td>\n",
       "      <td>302.74</td>\n",
       "      <td>302.74</td>\n",
       "      <td>54794568</td>\n",
       "    </tr>\n",
       "    <tr>\n",
       "      <th>2020-03-03</th>\n",
       "      <td>303.67</td>\n",
       "      <td>304.00</td>\n",
       "      <td>285.80</td>\n",
       "      <td>289.32</td>\n",
       "      <td>289.32</td>\n",
       "      <td>79868852</td>\n",
       "    </tr>\n",
       "    <tr>\n",
       "      <th>2020-03-02</th>\n",
       "      <td>282.28</td>\n",
       "      <td>301.44</td>\n",
       "      <td>277.72</td>\n",
       "      <td>298.81</td>\n",
       "      <td>298.81</td>\n",
       "      <td>85349339</td>\n",
       "    </tr>\n",
       "  </tbody>\n",
       "</table>\n",
       "</div>"
      ],
      "text/plain": [
       "              open    high     low   close  adjusted_close    volume\n",
       "timestamp                                                           \n",
       "2020-03-06  282.00  290.82  281.23  289.03          289.03  56544246\n",
       "2020-03-05  295.52  299.55  291.41  292.92          292.92  46893219\n",
       "2020-03-04  296.44  303.40  293.13  302.74          302.74  54794568\n",
       "2020-03-03  303.67  304.00  285.80  289.32          289.32  79868852\n",
       "2020-03-02  282.28  301.44  277.72  298.81          298.81  85349339"
      ]
     },
     "execution_count": 45,
     "metadata": {},
     "output_type": "execute_result"
    }
   ],
   "source": [
    "aapl.head()"
   ]
  },
  {
   "cell_type": "code",
   "execution_count": 46,
   "metadata": {},
   "outputs": [
    {
     "data": {
      "text/html": [
       "<div>\n",
       "<style scoped>\n",
       "    .dataframe tbody tr th:only-of-type {\n",
       "        vertical-align: middle;\n",
       "    }\n",
       "\n",
       "    .dataframe tbody tr th {\n",
       "        vertical-align: top;\n",
       "    }\n",
       "\n",
       "    .dataframe thead th {\n",
       "        text-align: right;\n",
       "    }\n",
       "</style>\n",
       "<table border=\"1\" class=\"dataframe\">\n",
       "  <thead>\n",
       "    <tr style=\"text-align: right;\">\n",
       "      <th></th>\n",
       "      <th>timestamp</th>\n",
       "      <th>open</th>\n",
       "      <th>high</th>\n",
       "      <th>low</th>\n",
       "      <th>close</th>\n",
       "      <th>adjusted_close</th>\n",
       "      <th>volume</th>\n",
       "    </tr>\n",
       "  </thead>\n",
       "  <tbody>\n",
       "    <tr>\n",
       "      <th>2969</th>\n",
       "      <td>2008-05-20</td>\n",
       "      <td>181.83</td>\n",
       "      <td>186.16</td>\n",
       "      <td>180.12</td>\n",
       "      <td>185.9000</td>\n",
       "      <td>23.0494</td>\n",
       "      <td>34637500</td>\n",
       "    </tr>\n",
       "    <tr>\n",
       "      <th>2970</th>\n",
       "      <td>2008-05-19</td>\n",
       "      <td>187.90</td>\n",
       "      <td>188.69</td>\n",
       "      <td>181.30</td>\n",
       "      <td>183.6000</td>\n",
       "      <td>22.7642</td>\n",
       "      <td>33779300</td>\n",
       "    </tr>\n",
       "    <tr>\n",
       "      <th>2971</th>\n",
       "      <td>2008-05-16</td>\n",
       "      <td>190.30</td>\n",
       "      <td>190.30</td>\n",
       "      <td>187.00</td>\n",
       "      <td>187.6201</td>\n",
       "      <td>23.2626</td>\n",
       "      <td>27348900</td>\n",
       "    </tr>\n",
       "  </tbody>\n",
       "</table>\n",
       "</div>"
      ],
      "text/plain": [
       "      timestamp    open    high     low     close  adjusted_close    volume\n",
       "2969 2008-05-20  181.83  186.16  180.12  185.9000         23.0494  34637500\n",
       "2970 2008-05-19  187.90  188.69  181.30  183.6000         22.7642  33779300\n",
       "2971 2008-05-16  190.30  190.30  187.00  187.6201         23.2626  27348900"
      ]
     },
     "execution_count": 46,
     "metadata": {},
     "output_type": "execute_result"
    }
   ],
   "source": [
    "aapl = pd.read_excel(\"C:/Users/juanf/Escritorio/python_finanzas_quant/archivos_data/UCEMA/AAPL.xlsx\", sheet_name='Hoja1')\n",
    "aapl[aapl['timestamp']>\"2008-05-15\"].tail(3)"
   ]
  },
  {
   "cell_type": "markdown",
   "metadata": {},
   "source": [
    "3. contar la cantidad de ruedas entre el 15 de mayo del 2008 y el 20 de agosto de 2011"
   ]
  },
  {
   "cell_type": "code",
   "execution_count": 47,
   "metadata": {},
   "outputs": [
    {
     "data": {
      "text/plain": [
       "823"
      ]
     },
     "execution_count": 47,
     "metadata": {},
     "output_type": "execute_result"
    }
   ],
   "source": [
    "len(aapl[(aapl['timestamp']>\"2008-05-15\") & (aapl['timestamp']<\"2011-08-20\")])"
   ]
  },
  {
   "cell_type": "code",
   "execution_count": 48,
   "metadata": {},
   "outputs": [
    {
     "data": {
      "text/html": [
       "<div>\n",
       "<style scoped>\n",
       "    .dataframe tbody tr th:only-of-type {\n",
       "        vertical-align: middle;\n",
       "    }\n",
       "\n",
       "    .dataframe tbody tr th {\n",
       "        vertical-align: top;\n",
       "    }\n",
       "\n",
       "    .dataframe thead th {\n",
       "        text-align: right;\n",
       "    }\n",
       "</style>\n",
       "<table border=\"1\" class=\"dataframe\">\n",
       "  <thead>\n",
       "    <tr style=\"text-align: right;\">\n",
       "      <th></th>\n",
       "      <th>timestamp</th>\n",
       "      <th>open</th>\n",
       "      <th>high</th>\n",
       "      <th>low</th>\n",
       "      <th>close</th>\n",
       "      <th>adjusted_close</th>\n",
       "      <th>volume</th>\n",
       "    </tr>\n",
       "  </thead>\n",
       "  <tbody>\n",
       "    <tr>\n",
       "      <th>0</th>\n",
       "      <td>2020-03-06</td>\n",
       "      <td>282.00</td>\n",
       "      <td>290.82</td>\n",
       "      <td>281.23</td>\n",
       "      <td>289.03</td>\n",
       "      <td>289.03</td>\n",
       "      <td>56544246</td>\n",
       "    </tr>\n",
       "    <tr>\n",
       "      <th>1</th>\n",
       "      <td>2020-03-05</td>\n",
       "      <td>295.52</td>\n",
       "      <td>299.55</td>\n",
       "      <td>291.41</td>\n",
       "      <td>292.92</td>\n",
       "      <td>292.92</td>\n",
       "      <td>46893219</td>\n",
       "    </tr>\n",
       "    <tr>\n",
       "      <th>2</th>\n",
       "      <td>2020-03-04</td>\n",
       "      <td>296.44</td>\n",
       "      <td>303.40</td>\n",
       "      <td>293.13</td>\n",
       "      <td>302.74</td>\n",
       "      <td>302.74</td>\n",
       "      <td>54794568</td>\n",
       "    </tr>\n",
       "    <tr>\n",
       "      <th>3</th>\n",
       "      <td>2020-03-03</td>\n",
       "      <td>303.67</td>\n",
       "      <td>304.00</td>\n",
       "      <td>285.80</td>\n",
       "      <td>289.32</td>\n",
       "      <td>289.32</td>\n",
       "      <td>79868852</td>\n",
       "    </tr>\n",
       "    <tr>\n",
       "      <th>4</th>\n",
       "      <td>2020-03-02</td>\n",
       "      <td>282.28</td>\n",
       "      <td>301.44</td>\n",
       "      <td>277.72</td>\n",
       "      <td>298.81</td>\n",
       "      <td>298.81</td>\n",
       "      <td>85349339</td>\n",
       "    </tr>\n",
       "  </tbody>\n",
       "</table>\n",
       "</div>"
      ],
      "text/plain": [
       "   timestamp    open    high     low   close  adjusted_close    volume\n",
       "0 2020-03-06  282.00  290.82  281.23  289.03          289.03  56544246\n",
       "1 2020-03-05  295.52  299.55  291.41  292.92          292.92  46893219\n",
       "2 2020-03-04  296.44  303.40  293.13  302.74          302.74  54794568\n",
       "3 2020-03-03  303.67  304.00  285.80  289.32          289.32  79868852\n",
       "4 2020-03-02  282.28  301.44  277.72  298.81          298.81  85349339"
      ]
     },
     "execution_count": 48,
     "metadata": {},
     "output_type": "execute_result"
    }
   ],
   "source": [
    "aapl.head()"
   ]
  },
  {
   "cell_type": "code",
   "execution_count": 49,
   "metadata": {},
   "outputs": [
    {
     "data": {
      "text/html": [
       "<div>\n",
       "<style scoped>\n",
       "    .dataframe tbody tr th:only-of-type {\n",
       "        vertical-align: middle;\n",
       "    }\n",
       "\n",
       "    .dataframe tbody tr th {\n",
       "        vertical-align: top;\n",
       "    }\n",
       "\n",
       "    .dataframe thead th {\n",
       "        text-align: right;\n",
       "    }\n",
       "</style>\n",
       "<table border=\"1\" class=\"dataframe\">\n",
       "  <thead>\n",
       "    <tr style=\"text-align: right;\">\n",
       "      <th></th>\n",
       "      <th>open</th>\n",
       "      <th>high</th>\n",
       "      <th>low</th>\n",
       "      <th>close</th>\n",
       "      <th>adjusted_close</th>\n",
       "      <th>volume</th>\n",
       "    </tr>\n",
       "    <tr>\n",
       "      <th>timestamp</th>\n",
       "      <th></th>\n",
       "      <th></th>\n",
       "      <th></th>\n",
       "      <th></th>\n",
       "      <th></th>\n",
       "      <th></th>\n",
       "    </tr>\n",
       "  </thead>\n",
       "  <tbody>\n",
       "    <tr>\n",
       "      <th>2020-03-06</th>\n",
       "      <td>282.00</td>\n",
       "      <td>290.82</td>\n",
       "      <td>281.23</td>\n",
       "      <td>289.03</td>\n",
       "      <td>289.03</td>\n",
       "      <td>56544246</td>\n",
       "    </tr>\n",
       "    <tr>\n",
       "      <th>2020-03-05</th>\n",
       "      <td>295.52</td>\n",
       "      <td>299.55</td>\n",
       "      <td>291.41</td>\n",
       "      <td>292.92</td>\n",
       "      <td>292.92</td>\n",
       "      <td>46893219</td>\n",
       "    </tr>\n",
       "    <tr>\n",
       "      <th>2020-03-04</th>\n",
       "      <td>296.44</td>\n",
       "      <td>303.40</td>\n",
       "      <td>293.13</td>\n",
       "      <td>302.74</td>\n",
       "      <td>302.74</td>\n",
       "      <td>54794568</td>\n",
       "    </tr>\n",
       "    <tr>\n",
       "      <th>2020-03-03</th>\n",
       "      <td>303.67</td>\n",
       "      <td>304.00</td>\n",
       "      <td>285.80</td>\n",
       "      <td>289.32</td>\n",
       "      <td>289.32</td>\n",
       "      <td>79868852</td>\n",
       "    </tr>\n",
       "    <tr>\n",
       "      <th>2020-03-02</th>\n",
       "      <td>282.28</td>\n",
       "      <td>301.44</td>\n",
       "      <td>277.72</td>\n",
       "      <td>298.81</td>\n",
       "      <td>298.81</td>\n",
       "      <td>85349339</td>\n",
       "    </tr>\n",
       "  </tbody>\n",
       "</table>\n",
       "</div>"
      ],
      "text/plain": [
       "              open    high     low   close  adjusted_close    volume\n",
       "timestamp                                                           \n",
       "2020-03-06  282.00  290.82  281.23  289.03          289.03  56544246\n",
       "2020-03-05  295.52  299.55  291.41  292.92          292.92  46893219\n",
       "2020-03-04  296.44  303.40  293.13  302.74          302.74  54794568\n",
       "2020-03-03  303.67  304.00  285.80  289.32          289.32  79868852\n",
       "2020-03-02  282.28  301.44  277.72  298.81          298.81  85349339"
      ]
     },
     "execution_count": 49,
     "metadata": {},
     "output_type": "execute_result"
    }
   ],
   "source": [
    "data_fecha_indice = aapl.set_index('timestamp')\n",
    "data_fecha_indice.head()"
   ]
  },
  {
   "cell_type": "code",
   "execution_count": 50,
   "metadata": {},
   "outputs": [],
   "source": [
    "# data_fecha_indice.loc[\"2011-08-20\":\"2008-08-15\"]"
   ]
  },
  {
   "cell_type": "markdown",
   "metadata": {},
   "source": [
    "4. contar la cantidad de ruedas entre el 15 de mayo del 2008 y el 20 de agosto de 2011 que el precio de cierre haya sido mayor que el precio de apertura"
   ]
  },
  {
   "cell_type": "code",
   "execution_count": 51,
   "metadata": {},
   "outputs": [
    {
     "data": {
      "text/plain": [
       "420"
      ]
     },
     "execution_count": 51,
     "metadata": {},
     "output_type": "execute_result"
    }
   ],
   "source": [
    "len(aapl[(aapl['timestamp']>\"2008-05-15\") & (aapl['timestamp']<\"2011-08-20\") & (aapl['close']>aapl['open'])])"
   ]
  },
  {
   "cell_type": "code",
   "execution_count": 52,
   "metadata": {},
   "outputs": [
    {
     "ename": "KeyError",
     "evalue": "'Value based partial slicing on non-monotonic DatetimeIndexes with non-existing keys is not allowed.'",
     "output_type": "error",
     "traceback": [
      "\u001b[1;31m---------------------------------------------------------------------------\u001b[0m",
      "\u001b[1;31mKeyError\u001b[0m                                  Traceback (most recent call last)",
      "\u001b[1;32mc:\\Users\\juanf\\Escritorio\\python_finanzas_quant\\FinanzasQuant\\t[1] dataframes\\Ejercicios\\ej_segunda_parte.ipynb Cell 15\u001b[0m line \u001b[0;36m3\n\u001b[0;32m      <a href='vscode-notebook-cell:/c%3A/Users/juanf/Escritorio/python_finanzas_quant/FinanzasQuant/t%5B1%5D%20dataframes/Ejercicios/ej_segunda_parte.ipynb#X24sZmlsZQ%3D%3D?line=0'>1</a>\u001b[0m data \u001b[39m=\u001b[39m pd\u001b[39m.\u001b[39mread_excel(\u001b[39m\"\u001b[39m\u001b[39mC:/Users/juanf/Escritorio/python_finanzas_quant/archivos_data/UCEMA/AAPL.xlsx\u001b[39m\u001b[39m\"\u001b[39m, sheet_name\u001b[39m=\u001b[39m\u001b[39m'\u001b[39m\u001b[39mHoja1\u001b[39m\u001b[39m'\u001b[39m)\n\u001b[0;32m      <a href='vscode-notebook-cell:/c%3A/Users/juanf/Escritorio/python_finanzas_quant/FinanzasQuant/t%5B1%5D%20dataframes/Ejercicios/ej_segunda_parte.ipynb#X24sZmlsZQ%3D%3D?line=1'>2</a>\u001b[0m dataIndiceFecha \u001b[39m=\u001b[39m data\u001b[39m.\u001b[39mset_index(\u001b[39m'\u001b[39m\u001b[39mtimestamp\u001b[39m\u001b[39m'\u001b[39m)\n\u001b[1;32m----> <a href='vscode-notebook-cell:/c%3A/Users/juanf/Escritorio/python_finanzas_quant/FinanzasQuant/t%5B1%5D%20dataframes/Ejercicios/ej_segunda_parte.ipynb#X24sZmlsZQ%3D%3D?line=2'>3</a>\u001b[0m rango \u001b[39m=\u001b[39m dataIndiceFecha\u001b[39m.\u001b[39;49mloc[\u001b[39m\"\u001b[39;49m\u001b[39m2011-08-20\u001b[39;49m\u001b[39m\"\u001b[39;49m:\u001b[39m\"\u001b[39;49m\u001b[39m2008-05-15\u001b[39;49m\u001b[39m\"\u001b[39;49m]\n\u001b[0;32m      <a href='vscode-notebook-cell:/c%3A/Users/juanf/Escritorio/python_finanzas_quant/FinanzasQuant/t%5B1%5D%20dataframes/Ejercicios/ej_segunda_parte.ipynb#X24sZmlsZQ%3D%3D?line=3'>4</a>\u001b[0m rango\n",
      "File \u001b[1;32mc:\\Users\\juanf\\AppData\\Local\\Programs\\Python\\Python312\\Lib\\site-packages\\pandas\\core\\indexing.py:1153\u001b[0m, in \u001b[0;36m_LocationIndexer.__getitem__\u001b[1;34m(self, key)\u001b[0m\n\u001b[0;32m   1150\u001b[0m axis \u001b[39m=\u001b[39m \u001b[39mself\u001b[39m\u001b[39m.\u001b[39maxis \u001b[39mor\u001b[39;00m \u001b[39m0\u001b[39m\n\u001b[0;32m   1152\u001b[0m maybe_callable \u001b[39m=\u001b[39m com\u001b[39m.\u001b[39mapply_if_callable(key, \u001b[39mself\u001b[39m\u001b[39m.\u001b[39mobj)\n\u001b[1;32m-> 1153\u001b[0m \u001b[39mreturn\u001b[39;00m \u001b[39mself\u001b[39;49m\u001b[39m.\u001b[39;49m_getitem_axis(maybe_callable, axis\u001b[39m=\u001b[39;49maxis)\n",
      "File \u001b[1;32mc:\\Users\\juanf\\AppData\\Local\\Programs\\Python\\Python312\\Lib\\site-packages\\pandas\\core\\indexing.py:1373\u001b[0m, in \u001b[0;36m_LocIndexer._getitem_axis\u001b[1;34m(self, key, axis)\u001b[0m\n\u001b[0;32m   1371\u001b[0m \u001b[39mif\u001b[39;00m \u001b[39misinstance\u001b[39m(key, \u001b[39mslice\u001b[39m):\n\u001b[0;32m   1372\u001b[0m     \u001b[39mself\u001b[39m\u001b[39m.\u001b[39m_validate_key(key, axis)\n\u001b[1;32m-> 1373\u001b[0m     \u001b[39mreturn\u001b[39;00m \u001b[39mself\u001b[39;49m\u001b[39m.\u001b[39;49m_get_slice_axis(key, axis\u001b[39m=\u001b[39;49maxis)\n\u001b[0;32m   1374\u001b[0m \u001b[39melif\u001b[39;00m com\u001b[39m.\u001b[39mis_bool_indexer(key):\n\u001b[0;32m   1375\u001b[0m     \u001b[39mreturn\u001b[39;00m \u001b[39mself\u001b[39m\u001b[39m.\u001b[39m_getbool_axis(key, axis\u001b[39m=\u001b[39maxis)\n",
      "File \u001b[1;32mc:\\Users\\juanf\\AppData\\Local\\Programs\\Python\\Python312\\Lib\\site-packages\\pandas\\core\\indexing.py:1405\u001b[0m, in \u001b[0;36m_LocIndexer._get_slice_axis\u001b[1;34m(self, slice_obj, axis)\u001b[0m\n\u001b[0;32m   1402\u001b[0m     \u001b[39mreturn\u001b[39;00m obj\u001b[39m.\u001b[39mcopy(deep\u001b[39m=\u001b[39m\u001b[39mFalse\u001b[39;00m)\n\u001b[0;32m   1404\u001b[0m labels \u001b[39m=\u001b[39m obj\u001b[39m.\u001b[39m_get_axis(axis)\n\u001b[1;32m-> 1405\u001b[0m indexer \u001b[39m=\u001b[39m labels\u001b[39m.\u001b[39;49mslice_indexer(slice_obj\u001b[39m.\u001b[39;49mstart, slice_obj\u001b[39m.\u001b[39;49mstop, slice_obj\u001b[39m.\u001b[39;49mstep)\n\u001b[0;32m   1407\u001b[0m \u001b[39mif\u001b[39;00m \u001b[39misinstance\u001b[39m(indexer, \u001b[39mslice\u001b[39m):\n\u001b[0;32m   1408\u001b[0m     \u001b[39mreturn\u001b[39;00m \u001b[39mself\u001b[39m\u001b[39m.\u001b[39mobj\u001b[39m.\u001b[39m_slice(indexer, axis\u001b[39m=\u001b[39maxis)\n",
      "File \u001b[1;32mc:\\Users\\juanf\\AppData\\Local\\Programs\\Python\\Python312\\Lib\\site-packages\\pandas\\core\\indexes\\datetimes.py:698\u001b[0m, in \u001b[0;36mDatetimeIndex.slice_indexer\u001b[1;34m(self, start, end, step)\u001b[0m\n\u001b[0;32m    695\u001b[0m     in_index \u001b[39m&\u001b[39m\u001b[39m=\u001b[39m (end_casted \u001b[39m==\u001b[39m \u001b[39mself\u001b[39m)\u001b[39m.\u001b[39many()\n\u001b[0;32m    697\u001b[0m \u001b[39mif\u001b[39;00m \u001b[39mnot\u001b[39;00m in_index:\n\u001b[1;32m--> 698\u001b[0m     \u001b[39mraise\u001b[39;00m \u001b[39mKeyError\u001b[39;00m(\n\u001b[0;32m    699\u001b[0m         \u001b[39m\"\u001b[39m\u001b[39mValue based partial slicing on non-monotonic DatetimeIndexes \u001b[39m\u001b[39m\"\u001b[39m\n\u001b[0;32m    700\u001b[0m         \u001b[39m\"\u001b[39m\u001b[39mwith non-existing keys is not allowed.\u001b[39m\u001b[39m\"\u001b[39m,\n\u001b[0;32m    701\u001b[0m     )\n\u001b[0;32m    702\u001b[0m indexer \u001b[39m=\u001b[39m mask\u001b[39m.\u001b[39mnonzero()[\u001b[39m0\u001b[39m][::step]\n\u001b[0;32m    703\u001b[0m \u001b[39mif\u001b[39;00m \u001b[39mlen\u001b[39m(indexer) \u001b[39m==\u001b[39m \u001b[39mlen\u001b[39m(\u001b[39mself\u001b[39m):\n",
      "\u001b[1;31mKeyError\u001b[0m: 'Value based partial slicing on non-monotonic DatetimeIndexes with non-existing keys is not allowed.'"
     ]
    }
   ],
   "source": [
    "data = pd.read_excel(\"C:/Users/juanf/Escritorio/python_finanzas_quant/archivos_data/UCEMA/AAPL.xlsx\", sheet_name='Hoja1')\n",
    "dataIndiceFecha = data.set_index('timestamp')\n",
    "rango = dataIndiceFecha.loc[\"2011-08-20\":\"2008-05-15\"]\n",
    "rango"
   ]
  }
 ],
 "metadata": {
  "kernelspec": {
   "display_name": "Python 3",
   "language": "python",
   "name": "python3"
  },
  "language_info": {
   "codemirror_mode": {
    "name": "ipython",
    "version": 3
   },
   "file_extension": ".py",
   "mimetype": "text/x-python",
   "name": "python",
   "nbconvert_exporter": "python",
   "pygments_lexer": "ipython3",
   "version": "3.12.0"
  }
 },
 "nbformat": 4,
 "nbformat_minor": 2
}
